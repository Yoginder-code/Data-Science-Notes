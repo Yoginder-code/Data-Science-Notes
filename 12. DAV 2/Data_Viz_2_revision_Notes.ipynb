{
 "cells": [
  {
   "cell_type": "markdown",
   "metadata": {
    "id": "PBy41Ct75IYj"
   },
   "source": [
    "## Content\n",
    "\n",
    "- Bivariate Data Visualization\n",
    "  - Continous-Continous\n",
    "    - Line plot\n",
    "    - Styling and Labelling\n",
    "    - Scatterplot\n",
    "  - Categorical-Categorical\n",
    "    - Dodged countplot\n",
    "    - Stacked countplot\n",
    "  - Categorical-Continuous\n",
    "    - Multiple BoxPlots\n",
    "    - Multiple KDE Plots\n",
    "  - JointPlot, pairplot, heatmap\n",
    "- Multivariate Data Visualization\n",
    "  - CCN\n",
    "  - CNN\n",
    "  - NNN\n",
    "- Subplots\n",
    "- Jointplot\n",
    "- Pairplot\n",
    "- Heatmaps and correlation\n"
   ]
  },
  {
   "cell_type": "markdown",
   "metadata": {
    "id": "EvDJ4YQF0Kgo"
   },
   "source": [
    "#### Importing the data"
   ]
  },
  {
   "cell_type": "code",
   "execution_count": 7,
   "metadata": {},
   "outputs": [
    {
     "name": "stderr",
     "output_type": "stream",
     "text": [
      "usage: wget.py [options] URL\n",
      "\n",
      "options:\n",
      "  -o --output FILE|DIR   output filename or directory\n",
      "  -h --help\n",
      "  --version\n",
      "\n"
     ]
    }
   ],
   "source": [
    "!python -m wget"
   ]
  },
  {
   "cell_type": "code",
   "execution_count": 9,
   "metadata": {
    "colab": {
     "base_uri": "https://localhost:8080/"
    },
    "id": "922x7UdSs9K0",
    "outputId": "253526ae-e356-4b21-f0ab-87da7c4ff997"
   },
   "outputs": [
    {
     "data": {
      "text/plain": [
       "['Usage: wget.py [options]', '', 'wget.py: error: no such option: -O']"
      ]
     },
     "execution_count": 9,
     "metadata": {},
     "output_type": "execute_result"
    }
   ],
   "source": [
    "!!python -m wget https://d2beiqkhq929f0.cloudfront.net/public_assets/assets/000/021/299/original/final_vg1_-_final_vg_%281%29.csv?1670840166 -O vgsales.csv"
   ]
  },
  {
   "cell_type": "code",
   "execution_count": 10,
   "metadata": {
    "id": "CpkTShhptKFl"
   },
   "outputs": [],
   "source": [
    "import pandas as pd\n",
    "import numpy as np\n",
    "import matplotlib.pyplot as plt\n",
    "import seaborn as sns"
   ]
  },
  {
   "cell_type": "code",
   "execution_count": 11,
   "metadata": {
    "colab": {
     "base_uri": "https://localhost:8080/",
     "height": 206
    },
    "id": "7vf14v6GtVtl",
    "outputId": "5e713c93-b17f-4ddd-cafd-0506580cd186"
   },
   "outputs": [
    {
     "ename": "FileNotFoundError",
     "evalue": "[Errno 2] No such file or directory: 'vgsales.csv'",
     "output_type": "error",
     "traceback": [
      "\u001b[1;31m---------------------------------------------------------------------------\u001b[0m",
      "\u001b[1;31mFileNotFoundError\u001b[0m                         Traceback (most recent call last)",
      "Input \u001b[1;32mIn [11]\u001b[0m, in \u001b[0;36m<cell line: 1>\u001b[1;34m()\u001b[0m\n\u001b[1;32m----> 1\u001b[0m data \u001b[38;5;241m=\u001b[39m \u001b[43mpd\u001b[49m\u001b[38;5;241;43m.\u001b[39;49m\u001b[43mread_csv\u001b[49m\u001b[43m(\u001b[49m\u001b[38;5;124;43m'\u001b[39;49m\u001b[38;5;124;43mvgsales.csv\u001b[39;49m\u001b[38;5;124;43m'\u001b[39;49m\u001b[43m)\u001b[49m\n\u001b[0;32m      2\u001b[0m data\u001b[38;5;241m.\u001b[39mhead()\n",
      "File \u001b[1;32m~\\AppData\\Local\\Programs\\Python\\Python310\\lib\\site-packages\\pandas\\util\\_decorators.py:311\u001b[0m, in \u001b[0;36mdeprecate_nonkeyword_arguments.<locals>.decorate.<locals>.wrapper\u001b[1;34m(*args, **kwargs)\u001b[0m\n\u001b[0;32m    305\u001b[0m \u001b[38;5;28;01mif\u001b[39;00m \u001b[38;5;28mlen\u001b[39m(args) \u001b[38;5;241m>\u001b[39m num_allow_args:\n\u001b[0;32m    306\u001b[0m     warnings\u001b[38;5;241m.\u001b[39mwarn(\n\u001b[0;32m    307\u001b[0m         msg\u001b[38;5;241m.\u001b[39mformat(arguments\u001b[38;5;241m=\u001b[39marguments),\n\u001b[0;32m    308\u001b[0m         \u001b[38;5;167;01mFutureWarning\u001b[39;00m,\n\u001b[0;32m    309\u001b[0m         stacklevel\u001b[38;5;241m=\u001b[39mstacklevel,\n\u001b[0;32m    310\u001b[0m     )\n\u001b[1;32m--> 311\u001b[0m \u001b[38;5;28;01mreturn\u001b[39;00m func(\u001b[38;5;241m*\u001b[39margs, \u001b[38;5;241m*\u001b[39m\u001b[38;5;241m*\u001b[39mkwargs)\n",
      "File \u001b[1;32m~\\AppData\\Local\\Programs\\Python\\Python310\\lib\\site-packages\\pandas\\io\\parsers\\readers.py:680\u001b[0m, in \u001b[0;36mread_csv\u001b[1;34m(filepath_or_buffer, sep, delimiter, header, names, index_col, usecols, squeeze, prefix, mangle_dupe_cols, dtype, engine, converters, true_values, false_values, skipinitialspace, skiprows, skipfooter, nrows, na_values, keep_default_na, na_filter, verbose, skip_blank_lines, parse_dates, infer_datetime_format, keep_date_col, date_parser, dayfirst, cache_dates, iterator, chunksize, compression, thousands, decimal, lineterminator, quotechar, quoting, doublequote, escapechar, comment, encoding, encoding_errors, dialect, error_bad_lines, warn_bad_lines, on_bad_lines, delim_whitespace, low_memory, memory_map, float_precision, storage_options)\u001b[0m\n\u001b[0;32m    665\u001b[0m kwds_defaults \u001b[38;5;241m=\u001b[39m _refine_defaults_read(\n\u001b[0;32m    666\u001b[0m     dialect,\n\u001b[0;32m    667\u001b[0m     delimiter,\n\u001b[1;32m   (...)\u001b[0m\n\u001b[0;32m    676\u001b[0m     defaults\u001b[38;5;241m=\u001b[39m{\u001b[38;5;124m\"\u001b[39m\u001b[38;5;124mdelimiter\u001b[39m\u001b[38;5;124m\"\u001b[39m: \u001b[38;5;124m\"\u001b[39m\u001b[38;5;124m,\u001b[39m\u001b[38;5;124m\"\u001b[39m},\n\u001b[0;32m    677\u001b[0m )\n\u001b[0;32m    678\u001b[0m kwds\u001b[38;5;241m.\u001b[39mupdate(kwds_defaults)\n\u001b[1;32m--> 680\u001b[0m \u001b[38;5;28;01mreturn\u001b[39;00m \u001b[43m_read\u001b[49m\u001b[43m(\u001b[49m\u001b[43mfilepath_or_buffer\u001b[49m\u001b[43m,\u001b[49m\u001b[43m \u001b[49m\u001b[43mkwds\u001b[49m\u001b[43m)\u001b[49m\n",
      "File \u001b[1;32m~\\AppData\\Local\\Programs\\Python\\Python310\\lib\\site-packages\\pandas\\io\\parsers\\readers.py:575\u001b[0m, in \u001b[0;36m_read\u001b[1;34m(filepath_or_buffer, kwds)\u001b[0m\n\u001b[0;32m    572\u001b[0m _validate_names(kwds\u001b[38;5;241m.\u001b[39mget(\u001b[38;5;124m\"\u001b[39m\u001b[38;5;124mnames\u001b[39m\u001b[38;5;124m\"\u001b[39m, \u001b[38;5;28;01mNone\u001b[39;00m))\n\u001b[0;32m    574\u001b[0m \u001b[38;5;66;03m# Create the parser.\u001b[39;00m\n\u001b[1;32m--> 575\u001b[0m parser \u001b[38;5;241m=\u001b[39m TextFileReader(filepath_or_buffer, \u001b[38;5;241m*\u001b[39m\u001b[38;5;241m*\u001b[39mkwds)\n\u001b[0;32m    577\u001b[0m \u001b[38;5;28;01mif\u001b[39;00m chunksize \u001b[38;5;129;01mor\u001b[39;00m iterator:\n\u001b[0;32m    578\u001b[0m     \u001b[38;5;28;01mreturn\u001b[39;00m parser\n",
      "File \u001b[1;32m~\\AppData\\Local\\Programs\\Python\\Python310\\lib\\site-packages\\pandas\\io\\parsers\\readers.py:934\u001b[0m, in \u001b[0;36mTextFileReader.__init__\u001b[1;34m(self, f, engine, **kwds)\u001b[0m\n\u001b[0;32m    931\u001b[0m     \u001b[38;5;28mself\u001b[39m\u001b[38;5;241m.\u001b[39moptions[\u001b[38;5;124m\"\u001b[39m\u001b[38;5;124mhas_index_names\u001b[39m\u001b[38;5;124m\"\u001b[39m] \u001b[38;5;241m=\u001b[39m kwds[\u001b[38;5;124m\"\u001b[39m\u001b[38;5;124mhas_index_names\u001b[39m\u001b[38;5;124m\"\u001b[39m]\n\u001b[0;32m    933\u001b[0m \u001b[38;5;28mself\u001b[39m\u001b[38;5;241m.\u001b[39mhandles: IOHandles \u001b[38;5;241m|\u001b[39m \u001b[38;5;28;01mNone\u001b[39;00m \u001b[38;5;241m=\u001b[39m \u001b[38;5;28;01mNone\u001b[39;00m\n\u001b[1;32m--> 934\u001b[0m \u001b[38;5;28mself\u001b[39m\u001b[38;5;241m.\u001b[39m_engine \u001b[38;5;241m=\u001b[39m \u001b[38;5;28;43mself\u001b[39;49m\u001b[38;5;241;43m.\u001b[39;49m\u001b[43m_make_engine\u001b[49m\u001b[43m(\u001b[49m\u001b[43mf\u001b[49m\u001b[43m,\u001b[49m\u001b[43m \u001b[49m\u001b[38;5;28;43mself\u001b[39;49m\u001b[38;5;241;43m.\u001b[39;49m\u001b[43mengine\u001b[49m\u001b[43m)\u001b[49m\n",
      "File \u001b[1;32m~\\AppData\\Local\\Programs\\Python\\Python310\\lib\\site-packages\\pandas\\io\\parsers\\readers.py:1218\u001b[0m, in \u001b[0;36mTextFileReader._make_engine\u001b[1;34m(self, f, engine)\u001b[0m\n\u001b[0;32m   1214\u001b[0m     mode \u001b[38;5;241m=\u001b[39m \u001b[38;5;124m\"\u001b[39m\u001b[38;5;124mrb\u001b[39m\u001b[38;5;124m\"\u001b[39m\n\u001b[0;32m   1215\u001b[0m \u001b[38;5;66;03m# error: No overload variant of \"get_handle\" matches argument types\u001b[39;00m\n\u001b[0;32m   1216\u001b[0m \u001b[38;5;66;03m# \"Union[str, PathLike[str], ReadCsvBuffer[bytes], ReadCsvBuffer[str]]\"\u001b[39;00m\n\u001b[0;32m   1217\u001b[0m \u001b[38;5;66;03m# , \"str\", \"bool\", \"Any\", \"Any\", \"Any\", \"Any\", \"Any\"\u001b[39;00m\n\u001b[1;32m-> 1218\u001b[0m \u001b[38;5;28mself\u001b[39m\u001b[38;5;241m.\u001b[39mhandles \u001b[38;5;241m=\u001b[39m \u001b[43mget_handle\u001b[49m\u001b[43m(\u001b[49m\u001b[43m  \u001b[49m\u001b[38;5;66;43;03m# type: ignore[call-overload]\u001b[39;49;00m\n\u001b[0;32m   1219\u001b[0m \u001b[43m    \u001b[49m\u001b[43mf\u001b[49m\u001b[43m,\u001b[49m\n\u001b[0;32m   1220\u001b[0m \u001b[43m    \u001b[49m\u001b[43mmode\u001b[49m\u001b[43m,\u001b[49m\n\u001b[0;32m   1221\u001b[0m \u001b[43m    \u001b[49m\u001b[43mencoding\u001b[49m\u001b[38;5;241;43m=\u001b[39;49m\u001b[38;5;28;43mself\u001b[39;49m\u001b[38;5;241;43m.\u001b[39;49m\u001b[43moptions\u001b[49m\u001b[38;5;241;43m.\u001b[39;49m\u001b[43mget\u001b[49m\u001b[43m(\u001b[49m\u001b[38;5;124;43m\"\u001b[39;49m\u001b[38;5;124;43mencoding\u001b[39;49m\u001b[38;5;124;43m\"\u001b[39;49m\u001b[43m,\u001b[49m\u001b[43m \u001b[49m\u001b[38;5;28;43;01mNone\u001b[39;49;00m\u001b[43m)\u001b[49m\u001b[43m,\u001b[49m\n\u001b[0;32m   1222\u001b[0m \u001b[43m    \u001b[49m\u001b[43mcompression\u001b[49m\u001b[38;5;241;43m=\u001b[39;49m\u001b[38;5;28;43mself\u001b[39;49m\u001b[38;5;241;43m.\u001b[39;49m\u001b[43moptions\u001b[49m\u001b[38;5;241;43m.\u001b[39;49m\u001b[43mget\u001b[49m\u001b[43m(\u001b[49m\u001b[38;5;124;43m\"\u001b[39;49m\u001b[38;5;124;43mcompression\u001b[39;49m\u001b[38;5;124;43m\"\u001b[39;49m\u001b[43m,\u001b[49m\u001b[43m \u001b[49m\u001b[38;5;28;43;01mNone\u001b[39;49;00m\u001b[43m)\u001b[49m\u001b[43m,\u001b[49m\n\u001b[0;32m   1223\u001b[0m \u001b[43m    \u001b[49m\u001b[43mmemory_map\u001b[49m\u001b[38;5;241;43m=\u001b[39;49m\u001b[38;5;28;43mself\u001b[39;49m\u001b[38;5;241;43m.\u001b[39;49m\u001b[43moptions\u001b[49m\u001b[38;5;241;43m.\u001b[39;49m\u001b[43mget\u001b[49m\u001b[43m(\u001b[49m\u001b[38;5;124;43m\"\u001b[39;49m\u001b[38;5;124;43mmemory_map\u001b[39;49m\u001b[38;5;124;43m\"\u001b[39;49m\u001b[43m,\u001b[49m\u001b[43m \u001b[49m\u001b[38;5;28;43;01mFalse\u001b[39;49;00m\u001b[43m)\u001b[49m\u001b[43m,\u001b[49m\n\u001b[0;32m   1224\u001b[0m \u001b[43m    \u001b[49m\u001b[43mis_text\u001b[49m\u001b[38;5;241;43m=\u001b[39;49m\u001b[43mis_text\u001b[49m\u001b[43m,\u001b[49m\n\u001b[0;32m   1225\u001b[0m \u001b[43m    \u001b[49m\u001b[43merrors\u001b[49m\u001b[38;5;241;43m=\u001b[39;49m\u001b[38;5;28;43mself\u001b[39;49m\u001b[38;5;241;43m.\u001b[39;49m\u001b[43moptions\u001b[49m\u001b[38;5;241;43m.\u001b[39;49m\u001b[43mget\u001b[49m\u001b[43m(\u001b[49m\u001b[38;5;124;43m\"\u001b[39;49m\u001b[38;5;124;43mencoding_errors\u001b[39;49m\u001b[38;5;124;43m\"\u001b[39;49m\u001b[43m,\u001b[49m\u001b[43m \u001b[49m\u001b[38;5;124;43m\"\u001b[39;49m\u001b[38;5;124;43mstrict\u001b[39;49m\u001b[38;5;124;43m\"\u001b[39;49m\u001b[43m)\u001b[49m\u001b[43m,\u001b[49m\n\u001b[0;32m   1226\u001b[0m \u001b[43m    \u001b[49m\u001b[43mstorage_options\u001b[49m\u001b[38;5;241;43m=\u001b[39;49m\u001b[38;5;28;43mself\u001b[39;49m\u001b[38;5;241;43m.\u001b[39;49m\u001b[43moptions\u001b[49m\u001b[38;5;241;43m.\u001b[39;49m\u001b[43mget\u001b[49m\u001b[43m(\u001b[49m\u001b[38;5;124;43m\"\u001b[39;49m\u001b[38;5;124;43mstorage_options\u001b[39;49m\u001b[38;5;124;43m\"\u001b[39;49m\u001b[43m,\u001b[49m\u001b[43m \u001b[49m\u001b[38;5;28;43;01mNone\u001b[39;49;00m\u001b[43m)\u001b[49m\u001b[43m,\u001b[49m\n\u001b[0;32m   1227\u001b[0m \u001b[43m\u001b[49m\u001b[43m)\u001b[49m\n\u001b[0;32m   1228\u001b[0m \u001b[38;5;28;01massert\u001b[39;00m \u001b[38;5;28mself\u001b[39m\u001b[38;5;241m.\u001b[39mhandles \u001b[38;5;129;01mis\u001b[39;00m \u001b[38;5;129;01mnot\u001b[39;00m \u001b[38;5;28;01mNone\u001b[39;00m\n\u001b[0;32m   1229\u001b[0m f \u001b[38;5;241m=\u001b[39m \u001b[38;5;28mself\u001b[39m\u001b[38;5;241m.\u001b[39mhandles\u001b[38;5;241m.\u001b[39mhandle\n",
      "File \u001b[1;32m~\\AppData\\Local\\Programs\\Python\\Python310\\lib\\site-packages\\pandas\\io\\common.py:786\u001b[0m, in \u001b[0;36mget_handle\u001b[1;34m(path_or_buf, mode, encoding, compression, memory_map, is_text, errors, storage_options)\u001b[0m\n\u001b[0;32m    781\u001b[0m \u001b[38;5;28;01melif\u001b[39;00m \u001b[38;5;28misinstance\u001b[39m(handle, \u001b[38;5;28mstr\u001b[39m):\n\u001b[0;32m    782\u001b[0m     \u001b[38;5;66;03m# Check whether the filename is to be opened in binary mode.\u001b[39;00m\n\u001b[0;32m    783\u001b[0m     \u001b[38;5;66;03m# Binary mode does not support 'encoding' and 'newline'.\u001b[39;00m\n\u001b[0;32m    784\u001b[0m     \u001b[38;5;28;01mif\u001b[39;00m ioargs\u001b[38;5;241m.\u001b[39mencoding \u001b[38;5;129;01mand\u001b[39;00m \u001b[38;5;124m\"\u001b[39m\u001b[38;5;124mb\u001b[39m\u001b[38;5;124m\"\u001b[39m \u001b[38;5;129;01mnot\u001b[39;00m \u001b[38;5;129;01min\u001b[39;00m ioargs\u001b[38;5;241m.\u001b[39mmode:\n\u001b[0;32m    785\u001b[0m         \u001b[38;5;66;03m# Encoding\u001b[39;00m\n\u001b[1;32m--> 786\u001b[0m         handle \u001b[38;5;241m=\u001b[39m \u001b[38;5;28;43mopen\u001b[39;49m\u001b[43m(\u001b[49m\n\u001b[0;32m    787\u001b[0m \u001b[43m            \u001b[49m\u001b[43mhandle\u001b[49m\u001b[43m,\u001b[49m\n\u001b[0;32m    788\u001b[0m \u001b[43m            \u001b[49m\u001b[43mioargs\u001b[49m\u001b[38;5;241;43m.\u001b[39;49m\u001b[43mmode\u001b[49m\u001b[43m,\u001b[49m\n\u001b[0;32m    789\u001b[0m \u001b[43m            \u001b[49m\u001b[43mencoding\u001b[49m\u001b[38;5;241;43m=\u001b[39;49m\u001b[43mioargs\u001b[49m\u001b[38;5;241;43m.\u001b[39;49m\u001b[43mencoding\u001b[49m\u001b[43m,\u001b[49m\n\u001b[0;32m    790\u001b[0m \u001b[43m            \u001b[49m\u001b[43merrors\u001b[49m\u001b[38;5;241;43m=\u001b[39;49m\u001b[43merrors\u001b[49m\u001b[43m,\u001b[49m\n\u001b[0;32m    791\u001b[0m \u001b[43m            \u001b[49m\u001b[43mnewline\u001b[49m\u001b[38;5;241;43m=\u001b[39;49m\u001b[38;5;124;43m\"\u001b[39;49m\u001b[38;5;124;43m\"\u001b[39;49m\u001b[43m,\u001b[49m\n\u001b[0;32m    792\u001b[0m \u001b[43m        \u001b[49m\u001b[43m)\u001b[49m\n\u001b[0;32m    793\u001b[0m     \u001b[38;5;28;01melse\u001b[39;00m:\n\u001b[0;32m    794\u001b[0m         \u001b[38;5;66;03m# Binary mode\u001b[39;00m\n\u001b[0;32m    795\u001b[0m         handle \u001b[38;5;241m=\u001b[39m \u001b[38;5;28mopen\u001b[39m(handle, ioargs\u001b[38;5;241m.\u001b[39mmode)\n",
      "\u001b[1;31mFileNotFoundError\u001b[0m: [Errno 2] No such file or directory: 'vgsales.csv'"
     ]
    }
   ],
   "source": [
    "data = pd.read_csv('vgsales.csv')\n",
    "data.head()"
   ]
  },
  {
   "cell_type": "code",
   "execution_count": null,
   "metadata": {
    "colab": {
     "base_uri": "https://localhost:8080/",
     "height": 300
    },
    "id": "5MQ-fcMiP8Hp",
    "outputId": "461d4333-54e4-4d92-ee5b-8b60b0b47f4d"
   },
   "outputs": [],
   "source": [
    "data.describe()"
   ]
  },
  {
   "cell_type": "markdown",
   "metadata": {
    "id": "s7nfoNR61jp0"
   },
   "source": [
    "If you notice, `Genres`, `Publisher` and `Platform` are categorical values\n",
    "\n",
    "Since we have a lot of categories of each of them, we will use top 3 of each to make our analysis easier"
   ]
  },
  {
   "cell_type": "code",
   "execution_count": null,
   "metadata": {
    "colab": {
     "base_uri": "https://localhost:8080/",
     "height": 424
    },
    "id": "Ut5nYxIO1vbd",
    "outputId": "0764e8bb-f144-47ca-fdb8-bc971e09b6aa"
   },
   "outputs": [],
   "source": [
    "top3_pub = data['Publisher'].value_counts().index[:3]\n",
    "top3_gen = data['Genre'].value_counts().index[:3]\n",
    "top3_plat = data['Platform'].value_counts().index[:3]\n",
    "top3_data = data.loc[(data[\"Publisher\"].isin(top3_pub)) &\n",
    "                     (data[\"Platform\"].isin(top3_plat)) & (data['Genre'].isin(top3_gen))]\n",
    "top3_data"
   ]
  },
  {
   "cell_type": "markdown",
   "metadata": {
    "id": "ChDyNelWJLP4"
   },
   "source": [
    "## Bivariate Data Visualization"
   ]
  },
  {
   "cell_type": "markdown",
   "metadata": {
    "id": "xSv7jXAtXFkj"
   },
   "source": [
    "### Continous-Continous"
   ]
  },
  {
   "cell_type": "markdown",
   "metadata": {
    "id": "syeqTHe5MqvJ"
   },
   "source": [
    "So far we have been analyzing only a single feature.\n",
    "\n",
    "But what if we want to visualize two features at once?\n",
    "\n",
    "\n",
    "#### What kind of questions can we ask regarding a continous-continous pair of features?\n",
    "- Maybe show relation between two features, like **how does the sales vary over the years**?\n",
    "- Or show **how are the features associated, positively or negatively**?\n",
    "\n",
    "...And so on\n",
    "\n",
    "<!-- #### What is analyzing two features/columns together called?\n",
    "\n",
    "**Bivariate analysis** -->\n",
    "\n",
    "Let's go back to the line plot we plotted at the very beginning"
   ]
  },
  {
   "cell_type": "markdown",
   "metadata": {
    "id": "ZGcpC0eCXSBa"
   },
   "source": [
    "### Line Plot"
   ]
  },
  {
   "cell_type": "markdown",
   "metadata": {
    "id": "isytJG_qpxV6"
   },
   "source": [
    "#### How can we plot the sales trend over the years for the longest running game?\n",
    "\n",
    "First, let's find the longest running game first"
   ]
  },
  {
   "cell_type": "code",
   "execution_count": null,
   "metadata": {
    "colab": {
     "base_uri": "https://localhost:8080/"
    },
    "id": "CTzT-vGFqL9v",
    "outputId": "fb4c4605-2f7c-47c4-b248-8a1eadcdc9d3"
   },
   "outputs": [],
   "source": [
    "data['Name'].value_counts()"
   ]
  },
  {
   "cell_type": "markdown",
   "metadata": {
    "id": "TXB3rhf0qU0s"
   },
   "source": [
    "Great, so `Ice Hockey` is longer running than most games\n",
    "\n",
    "Let's try to find the sales trend in North America of the same across the years"
   ]
  },
  {
   "cell_type": "code",
   "execution_count": null,
   "metadata": {
    "colab": {
     "base_uri": "https://localhost:8080/",
     "height": 297
    },
    "id": "3Y8Lfurcqqcf",
    "outputId": "b2e848b4-61f2-4e8b-ca7e-6aa6dc03e09f"
   },
   "outputs": [],
   "source": [
    "ih = data.loc[data['Name']=='Ice Hockey']\n",
    "sns.lineplot(x='Year', y='NA_Sales', data=ih)"
   ]
  },
  {
   "cell_type": "markdown",
   "metadata": {
    "id": "EoKIDyvjrFeP"
   },
   "source": [
    "#### What can we infer from this graph?\n",
    "\n",
    "- The sales across North America seem to have been boosted in the years of 1995-2005\n",
    "- Post 2010 though, the sales seem to have taken a dip\n",
    "\n",
    "Line plot are great to represending trends such as above, over time"
   ]
  },
  {
   "cell_type": "markdown",
   "metadata": {
    "id": "R2DnWzsrZHdU"
   },
   "source": [
    "### Style and Labelling\n",
    "\n",
    "We already learnt in barplot how to add **titles, x-label and y-label**\n",
    "\n",
    "Let's add the same here\n",
    "\n"
   ]
  },
  {
   "cell_type": "code",
   "execution_count": null,
   "metadata": {
    "colab": {
     "base_uri": "https://localhost:8080/",
     "height": 295
    },
    "id": "6b6fef34",
    "outputId": "89b052c4-b3fb-4835-bdce-b2fca71055dc"
   },
   "outputs": [],
   "source": [
    "plt.title('Ice Hockey Sales Trend')\n",
    "plt.xlabel('Year')\n",
    "plt.ylabel('Sales')\n",
    "sns.lineplot(x='Year', y='NA_Sales', data=ih)\n",
    "plt.show()"
   ]
  },
  {
   "cell_type": "markdown",
   "metadata": {
    "id": "8fd35c10"
   },
   "source": [
    "<!-- #### How are these values useful though ?\n",
    "\n",
    "- It gives **meaning of values** on x and y axis in **lables**\n",
    "- Mention the purpose of plot using **title** -->\n",
    "\n",
    "#### Now what if we want to change the colour of the curve ?\n",
    "\n",
    "`sns.lineplot()` contains an argument **color**\n",
    "- It takes as argument a matplotlib color\n",
    "\n",
    "  OR\n",
    "- as string for some defined colours like:\n",
    "    - black: `k`/ `black`\n",
    "    - red: `r`/`red` etc\n",
    "\n",
    "**But what all colours can we use ?**\n",
    "\n",
    "Matplotlib provides a lot of colours \n",
    "  \n",
    "Check the documentation for more colours\n",
    "\n",
    "https://matplotlib.org/2.0.2/api/colors_api.html\n"
   ]
  },
  {
   "cell_type": "code",
   "execution_count": null,
   "metadata": {
    "colab": {
     "base_uri": "https://localhost:8080/",
     "height": 295
    },
    "id": "a1da8f1c",
    "outputId": "216f4d51-0822-4c13-af76-c563b10c453b"
   },
   "outputs": [],
   "source": [
    "plt.title('Ice Hockey Sales Trend')\n",
    "plt.xlabel('Year')\n",
    "plt.ylabel('Sales')\n",
    "sns.lineplot(x='Year', y='NA_Sales', data=ih, color='r')\n",
    "plt.show()"
   ]
  },
  {
   "cell_type": "markdown",
   "metadata": {
    "id": "113eff8a"
   },
   "source": [
    "Now, lets say we only want to show the values from years 1990-2000\n",
    "\n",
    "#### How can we limit our plot to only the last decade of 20th century?\n",
    "\n",
    "This requires changing the range of x-axis\n",
    "  \n",
    "#### But how can we change the range of an axis in matplotlib ?\n",
    " \n",
    "We can use:\n",
    "- `plt.xlim()`: x-axis\n",
    "- `plt.ylim()`: y-axis\n",
    "\n",
    "These funcs take same 2 args:\n",
    "  1. `left`: Starting point of range\n",
    "  2. `right`: End point of range\n"
   ]
  },
  {
   "cell_type": "code",
   "execution_count": null,
   "metadata": {
    "colab": {
     "base_uri": "https://localhost:8080/",
     "height": 295
    },
    "id": "7dcc8e8d",
    "outputId": "2fd07faa-ea36-4c87-f36e-ac28985843fa"
   },
   "outputs": [],
   "source": [
    "plt.title('Ice Hockey Sales Trend')\n",
    "plt.xlabel('Year')\n",
    "plt.ylabel('NA Sales')\n",
    "plt.xlim(left=1995,right=2010)\n",
    "sns.lineplot(x='Year', y='NA_Sales', data=ih)\n",
    "plt.show()"
   ]
  },
  {
   "cell_type": "markdown",
   "metadata": {
    "id": "38c51b3d"
   },
   "source": [
    "So far we have visualised a single plot to understand it\n",
    "\n",
    "**What if we want to compare it with some other plot?**\n",
    "\n",
    "Say, we want to compare the same sales trend between two games\n",
    "- Ice Hockey\n",
    "- Baseball\n",
    "\n",
    "Let's first plot the trend for \"Baseball\"\n"
   ]
  },
  {
   "cell_type": "code",
   "execution_count": null,
   "metadata": {
    "colab": {
     "base_uri": "https://localhost:8080/",
     "height": 297
    },
    "id": "f4FcyJV8Udmd",
    "outputId": "ad1f8658-4377-4048-dc4e-de86224f1bd2"
   },
   "outputs": [],
   "source": [
    "baseball = data.loc[data['Name']=='Baseball']\n",
    "sns.lineplot(x='Year', y='NA_Sales', data=baseball)"
   ]
  },
  {
   "cell_type": "markdown",
   "metadata": {
    "id": "z93OOOg24sjT"
   },
   "source": [
    "Now, to compare these, so we will have to draw these plots in the same figure\n",
    "\n",
    "#### How can we plot multiple plots in the same figure ?\n",
    "\n"
   ]
  },
  {
   "cell_type": "code",
   "execution_count": null,
   "metadata": {
    "colab": {
     "base_uri": "https://localhost:8080/",
     "height": 297
    },
    "id": "WjBlokQYUnh3",
    "outputId": "52f7494a-293c-4ccf-997a-07764b5300eb"
   },
   "outputs": [],
   "source": [
    "sns.lineplot(x='Year', y='NA_Sales', data=ih)\n",
    "sns.lineplot(x='Year', y='NA_Sales', data=baseball)"
   ]
  },
  {
   "cell_type": "markdown",
   "metadata": {
    "id": "JhUW4tFY5DyC"
   },
   "source": [
    "We can use multiple `sns.lineplot()` funcs"
   ]
  },
  {
   "cell_type": "markdown",
   "metadata": {
    "id": "mtAqV8dHSp8V"
   },
   "source": [
    "Observe:\n",
    "  \n",
    "Seaborn automatically created 2 plots with **different colors**\n",
    "\n",
    "#### However how can we know which colour is of which plot ?\n",
    "  - sns.lineplot() has another argument **label** to do so\n",
    "  - We can simply set the label of each plot\n"
   ]
  },
  {
   "cell_type": "code",
   "execution_count": null,
   "metadata": {
    "colab": {
     "base_uri": "https://localhost:8080/",
     "height": 297
    },
    "id": "54qyTBSWXcAc",
    "outputId": "b1edc862-5870-400a-b92a-d5150fe0cfce"
   },
   "outputs": [],
   "source": [
    "sns.lineplot(x='Year', y='NA_Sales', data=ih, label='Ice Hockey')\n",
    "sns.lineplot(x='Year', y='NA_Sales', data=baseball, label='Baseball')"
   ]
  },
  {
   "cell_type": "markdown",
   "metadata": {
    "id": "3PWsc3Sf5oa9"
   },
   "source": [
    "We can also pass these labels in plt.legend() as a list in the order plots are done"
   ]
  },
  {
   "cell_type": "code",
   "execution_count": null,
   "metadata": {
    "colab": {
     "base_uri": "https://localhost:8080/",
     "height": 279
    },
    "id": "QJie80o_VbV1",
    "outputId": "0575a94c-7b01-499a-99bb-3faa4356e8fb"
   },
   "outputs": [],
   "source": [
    "sns.lineplot(x='Year', y='NA_Sales', data=ih)\n",
    "sns.lineplot(x='Year', y='NA_Sales', data=baseball)\n",
    "plt.legend(['Ice Hockey','Baseball'])\n",
    "plt.show()"
   ]
  },
  {
   "cell_type": "markdown",
   "metadata": {
    "id": "63f2700d"
   },
   "source": [
    "#### Now can we change the position of the legend, say, to bottom-right corner?\n",
    "\n",
    "  - Matplotlib automatically decides the best position for the legends\n",
    "  \n",
    "  - But we can also change it using the `loc` parameter\n",
    "  \n",
    "  - `loc` takes input as 1 of following strings:\n",
    "    - upper center\n",
    "    - upper left\n",
    "    - upper right\n",
    "    - lower right ... etc\n",
    "  "
   ]
  },
  {
   "cell_type": "code",
   "execution_count": null,
   "metadata": {
    "colab": {
     "base_uri": "https://localhost:8080/",
     "height": 279
    },
    "id": "Rj7-SIDtOqhi",
    "outputId": "175d29c3-072d-4ce4-d145-02b9ee4c47ca"
   },
   "outputs": [],
   "source": [
    "sns.lineplot(x='Year', y='NA_Sales', data=ih)\n",
    "sns.lineplot(x='Year', y='NA_Sales', data=baseball)\n",
    "plt.legend(['Ice Hockey','Baseball'], loc='lower right')\n",
    "plt.show()"
   ]
  },
  {
   "cell_type": "markdown",
   "metadata": {
    "id": "tGfCB9y4CC7F"
   },
   "source": [
    "#### Now what if we want the legend to be outside the plot?\n",
    "\n",
    "Maybe the plot is too congested to show the legend\n",
    "\n",
    "We can use the same `loc` parameter for this too"
   ]
  },
  {
   "cell_type": "code",
   "execution_count": null,
   "metadata": {
    "colab": {
     "base_uri": "https://localhost:8080/",
     "height": 279
    },
    "id": "SbRQUrEOCVy8",
    "outputId": "c36b3954-af11-476f-8413-0d098221cc97"
   },
   "outputs": [],
   "source": [
    "sns.lineplot(x='Year', y='NA_Sales', data=ih)\n",
    "sns.lineplot(x='Year', y='NA_Sales', data=baseball)\n",
    "plt.legend(['Ice Hockey','Baseball'], loc=(-0.5,0.5))\n",
    "plt.show()"
   ]
  },
  {
   "cell_type": "markdown",
   "metadata": {
    "id": "VsYImy7dC5oO"
   },
   "source": [
    "The pair of floats signify the (x,y) coordinates for the legend\n",
    "\n",
    "==> From this we can conclude `loc` takes **two types of arguments**:\n",
    "- The location in the **form of string**\n",
    "- The location in the **form of coordinates**"
   ]
  },
  {
   "cell_type": "markdown",
   "metadata": {
    "id": "aKP8dn5yPHR1"
   },
   "source": [
    "#### What if we want to add other stylings to legends ?\n",
    "For eg:\n",
    "    \n",
    "- Specify the **number of rows/cols**\n",
    "  - Uses parameter `ncols` for this\n",
    "  - The number of **rows are decided automatically**\n",
    "    \n",
    "- Decide if we want the box of legends to be displayed\n",
    "  - Use the bool param `frameon`\n",
    "\n",
    "and so on.\n"
   ]
  },
  {
   "cell_type": "code",
   "execution_count": null,
   "metadata": {
    "colab": {
     "base_uri": "https://localhost:8080/",
     "height": 279
    },
    "id": "HP3Coqu7QCAo",
    "outputId": "8de538bd-0393-48df-87d5-5d7889edec98"
   },
   "outputs": [],
   "source": [
    "sns.lineplot(x='Year', y='NA_Sales', data=ih)\n",
    "sns.lineplot(x='Year', y='NA_Sales', data=baseball)\n",
    "plt.legend(['Ice Hockey','Baseball'], loc='lower right', ncol = 2, frameon = False)\n",
    "plt.show()"
   ]
  },
  {
   "cell_type": "markdown",
   "metadata": {
    "id": "ANGmUuQ4OptX"
   },
   "source": [
    "Now say we want to highlight a point on our curve.\n",
    "\n",
    "For e.g.\n",
    "\n",
    "#### How can we highlight the maximum \"Ice Hockey\" sales across all years ?\n",
    "\n",
    "Let's first find this point\n"
   ]
  },
  {
   "cell_type": "code",
   "execution_count": null,
   "metadata": {
    "colab": {
     "base_uri": "https://localhost:8080/"
    },
    "id": "7fAt5MS43cq7",
    "outputId": "94ef1c87-bcc1-4113-8522-6268515e1d3b"
   },
   "outputs": [],
   "source": [
    "print(max(ih['NA_Sales']))"
   ]
  },
  {
   "cell_type": "markdown",
   "metadata": {
    "id": "rMUyHThPB4wf"
   },
   "source": [
    "If we observe, this point lies in the year 2004-5 around\n",
    "\n",
    "Now we need to add text to this point (2004,0.9)\n",
    "\n",
    "#### How can we add text to a point in a figure ?"
   ]
  },
  {
   "cell_type": "code",
   "execution_count": null,
   "metadata": {
    "colab": {
     "base_uri": "https://localhost:8080/",
     "height": 279
    },
    "id": "afc8825b",
    "outputId": "0790146b-266e-4579-be75-a7f6b03c599d",
    "scrolled": true
   },
   "outputs": [],
   "source": [
    "sns.lineplot(x='Year', y='NA_Sales', data=ih)\n",
    "sns.lineplot(x='Year', y='NA_Sales', data=baseball)\n",
    "plt.legend(['Ice Hockey','Baseball'], loc='lower left')\n",
    "plt.text(2004,max(ih['NA_Sales']), 'Maximum Ice Hockey Sales')\n",
    "plt.show()"
   ]
  },
  {
   "cell_type": "markdown",
   "metadata": {
    "id": "HQTgEplCCVY8"
   },
   "source": [
    "By using `plt.text()`\n",
    "\n",
    "  - Pass in the **x and y coordinates** where we want the text to appear\n",
    "\n",
    "  - Pass in the **text string**"
   ]
  },
  {
   "cell_type": "markdown",
   "metadata": {
    "id": "6479bfae"
   },
   "source": [
    "We can also use `plt.grid()` to show the grid layout in the background\n"
   ]
  },
  {
   "cell_type": "code",
   "execution_count": null,
   "metadata": {
    "colab": {
     "base_uri": "https://localhost:8080/",
     "height": 279
    },
    "id": "7bbe37ab",
    "outputId": "a7e13d90-e49d-482b-f533-376241c431ed"
   },
   "outputs": [],
   "source": [
    "sns.lineplot(x='Year', y='NA_Sales', data=ih)\n",
    "sns.lineplot(x='Year', y='NA_Sales', data=baseball)\n",
    "plt.legend(['Ice Hockey','Baseball'], loc='lower left')\n",
    "plt.text(2004,max(ih['NA_Sales']), 'Maximum Ice Hockey Sales')\n",
    "plt.grid()\n",
    "plt.show()"
   ]
  },
  {
   "cell_type": "markdown",
   "metadata": {
    "id": "RKzPGH17Cnkr"
   },
   "source": [
    "Note:\n",
    "\n",
    "We can **pass in parameters inside `plt.grid()` to control its density, colour of grid lines, etc.**\n",
    "\n",
    "\n",
    "You can look it up later on how to customize the grid \n",
    "\n",
    "https://matplotlib.org/stable/api/_as_gen/matplotlib.pyplot.grid.html"
   ]
  },
  {
   "cell_type": "markdown",
   "metadata": {
    "id": "RExckt_Sa2SI"
   },
   "source": []
  },
  {
   "cell_type": "markdown",
   "metadata": {
    "id": "f9BlPaIVUi1y"
   },
   "source": [
    "### Scatter Plot"
   ]
  },
  {
   "cell_type": "markdown",
   "metadata": {
    "id": "k8pt3KxzUm93"
   },
   "source": [
    "Now suppose we want to find the relation between `Rank` and `Sales` of all games.\n",
    "\n",
    "#### Are `Rank` and `Sales` positively or negatively correlated?\n",
    "\n",
    "In this case, unlike line plot, there maybe multiple points in y-axis for each point in x-axis"
   ]
  },
  {
   "cell_type": "code",
   "execution_count": null,
   "metadata": {
    "colab": {
     "base_uri": "https://localhost:8080/",
     "height": 392
    },
    "id": "uXvWrmLh1dw7",
    "outputId": "f5a97c3e-b08d-4ea7-b6ce-c4943be5621b"
   },
   "outputs": [],
   "source": [
    "data.head()"
   ]
  },
  {
   "cell_type": "markdown",
   "metadata": {
    "id": "rNa2ZVqNVbkI"
   },
   "source": [
    "#### How can we plot the relation between `Rank` and `Global Sales`?\n",
    "\n",
    "Can we use lineplot? \n",
    "\n",
    "Let's try it out"
   ]
  },
  {
   "cell_type": "code",
   "execution_count": null,
   "metadata": {
    "colab": {
     "base_uri": "https://localhost:8080/",
     "height": 297
    },
    "id": "823Hf9ip172g",
    "outputId": "cce23da2-dceb-437f-adcb-c50bf85ecd7b"
   },
   "outputs": [],
   "source": [
    "sns.lineplot(data=data, x='Rank', y='Global_Sales')"
   ]
  },
  {
   "cell_type": "markdown",
   "metadata": {
    "id": "M2Rsna5c2D5N"
   },
   "source": [
    "The plot itself looks very messy and it's hard to find any patterns from it.\n",
    "\n",
    "#### Is there any other way we can visualize this relation?\n",
    "\n",
    "Use scatter plot"
   ]
  },
  {
   "cell_type": "code",
   "execution_count": null,
   "metadata": {
    "colab": {
     "base_uri": "https://localhost:8080/",
     "height": 297
    },
    "id": "2xB_wT8V1ZAO",
    "outputId": "5f5f4c8c-5a8e-4e8e-ea8d-17ff081cb2f5"
   },
   "outputs": [],
   "source": [
    "sns.scatterplot(data=data, x='Rank', y='Global_Sales')"
   ]
  },
  {
   "cell_type": "markdown",
   "metadata": {
    "id": "MqI_0UOaVeix"
   },
   "source": [
    "Compared to lineplot, we are able to see the patterns and points more distinctly now!\n",
    "\n",
    "Notice,\n",
    "\n",
    "- The two variables are negatively correlated with each other\n",
    "\n",
    "- With increase in ranks, the sales tend to go down, implying, lower ranked games have higher sales overall!\n",
    "\n",
    "Scatter plots help us visualize these relations and find any patterns in the data"
   ]
  },
  {
   "cell_type": "markdown",
   "metadata": {
    "id": "v0v93gadX5kU"
   },
   "source": [
    "Key Takeaways:\n",
    "\n",
    "- For Continuous-Continuous Data => Scatter Plot, Line Plot\n",
    "\n",
    "Sometimes, people also like to display the linear trend between two variables - Regression Plot, do check that"
   ]
  },
  {
   "cell_type": "markdown",
   "metadata": {
    "id": "sx-DL5ERIsG2"
   },
   "source": [
    "## Categorical-Categorical"
   ]
  },
  {
   "cell_type": "markdown",
   "metadata": {
    "id": "hTuDgI7600j5"
   },
   "source": [
    "Earlier we saw how to work with continous-continuous pair of data\n",
    "\n",
    "Now let's come to the second type of pair of data: **Categorical-Categorical**\n",
    "\n",
    "#### What questions comes to your mind when we say categorical-categorical pair?\n",
    "\n",
    "Questions related to distribution of a category within another category\n",
    "  - What is the **distribution of genres for top-3 publishers**?\n",
    "  - Which **platforms do these top publishers use?**\n",
    "\n",
    "\n",
    "#### Which plot can we use to show distribution of one category with respect to another?\n",
    "\n",
    "-> We can have can **have multiple bars for each category**\n",
    "\n",
    "- These multiple bars can be stacked together - **Stacked Countplot**\n",
    "\n",
    "Or \n",
    "\n",
    "- Can be placed next to each other - **Dodged Countplot**\n"
   ]
  },
  {
   "cell_type": "markdown",
   "metadata": {
    "id": "vPoSVtRQuIoy"
   },
   "source": [
    "### Dodged Count Plot"
   ]
  },
  {
   "cell_type": "markdown",
   "metadata": {
    "id": "sTb3VFOHQGvu"
   },
   "source": [
    "#### How can we compare the top 3 platforms these publishers use?\n",
    "\n",
    "We can use a dodged countplot in this case"
   ]
  },
  {
   "cell_type": "code",
   "execution_count": null,
   "metadata": {
    "colab": {
     "base_uri": "https://localhost:8080/",
     "height": 514
    },
    "id": "dTgg74757TMo",
    "outputId": "a10d69ff-d607-4580-a55f-d5943f63d492"
   },
   "outputs": [],
   "source": [
    "plt.figure(figsize=(10,8))\n",
    "sns.countplot(x='Publisher',hue='Platform',data=top3_data)\n",
    "plt.ylabel('Count of Games')"
   ]
  },
  {
   "cell_type": "markdown",
   "metadata": {
    "id": "Vx7VQaDAQVnj"
   },
   "source": [
    "#### What can we infer from the dodged countplot?\n",
    "- EA releases PS2 games way more than any other publisher, or even platform!\n",
    "- Activision has almost the same count of games for all 3 platforms\n",
    "- EA is leading in PS3 and PS2, but Namco leads when it comes to DS platform"
   ]
  },
  {
   "cell_type": "markdown",
   "metadata": {
    "id": "GGPzp-tZwJlO"
   },
   "source": [
    "### Stacked Countplot"
   ]
  },
  {
   "cell_type": "markdown",
   "metadata": {
    "id": "EeO2fhWrI0Ds"
   },
   "source": [
    "#### How can we visualize the distribution of genres for top-3 publishers?\n",
    "\n",
    "We can use a `stacked countplot`\n",
    "\n",
    "Do refer the postread for the code on how to plot it\n",
    "\n",
    "\n"
   ]
  },
  {
   "cell_type": "markdown",
   "metadata": {
    "id": "RysHELGLvxeI"
   },
   "source": [
    "\n",
    "\n",
    "![](https://d2beiqkhq929f0.cloudfront.net/public_assets/assets/000/021/545/original/download_%281%29.png?1671006217)"
   ]
  },
  {
   "cell_type": "markdown",
   "metadata": {
    "id": "IwE1W1_iQBcZ"
   },
   "source": [
    "But stacked countplots can be misleading\n",
    "\n",
    "Some may find it difficult to understand if it starts from baseline \n",
    "or from on top of the bottom area\n",
    "\n"
   ]
  },
  {
   "cell_type": "markdown",
   "metadata": {
    "id": "AwdIgBOXQy7X"
   },
   "source": [
    "#### How do we decide between a Stacked countplot and Dodged countlot?\n",
    "\n",
    "- Stacked countplots are a good way to represent totals\n",
    "- While dodged countplots helps us to comapare values between various categories, and within the category itself too\n"
   ]
  },
  {
   "cell_type": "markdown",
   "metadata": {
    "id": "cew5bvOxOeoN"
   },
   "source": [
    "## Continous-Categorical"
   ]
  },
  {
   "cell_type": "markdown",
   "metadata": {
    "id": "vHs3CP4J2Xlr"
   },
   "source": [
    "Now let's look at our 3rd type of data pair\n",
    "\n",
    "#### What kind of questions we may have regarding a continuous-categorical pair?\n",
    "\n",
    "- We might to want calculate some numbers category wise\n",
    "  - Like **What is the average sales for every genre?**\n",
    "- Or we might be interested in checking the distribution of the data category-wise\n",
    "  -  **What is the distribution of sales for the top3 publishers?**\n",
    "\n",
    "#### What kind of plot can we make for every category?\n",
    "\n",
    "-> Either KDE plot or Box Plot per category"
   ]
  },
  {
   "cell_type": "markdown",
   "metadata": {
    "id": "fg1ZABoM7C5O"
   },
   "source": [
    "### Boxplot"
   ]
  },
  {
   "cell_type": "markdown",
   "metadata": {
    "id": "uoc0CHfg5bfK"
   },
   "source": [
    "#### What is the distribution of sales for the top3 publishers?\n"
   ]
  },
  {
   "cell_type": "code",
   "execution_count": null,
   "metadata": {
    "colab": {
     "base_uri": "https://localhost:8080/",
     "height": 421
    },
    "id": "7kllX24gNrJc",
    "outputId": "5df62ff0-9161-40ae-c376-76483570bc19"
   },
   "outputs": [],
   "source": [
    "sns.boxplot(x='Publisher', y='Global_Sales', data=top3_data)\n",
    "plt.xticks(rotation=90,fontsize=12)\n",
    "plt.yticks(fontsize=12)\n",
    "plt.title('Sales for top3 publisher', fontsize=15)\n",
    "plt.show()"
   ]
  },
  {
   "cell_type": "markdown",
   "metadata": {
    "id": "BT-Oq1yR62uG"
   },
   "source": [
    "#### What can we infer from this plot?\n",
    "\n",
    "- The overall sales of EA is higher, with a much larger spread than other publishers\n",
    "- Activision doesn't have many outliers, and if you notice, even thought the spread is lesser than EA, the median is almost the same"
   ]
  },
  {
   "cell_type": "markdown",
   "metadata": {
    "id": "Y5ZcOm1C7EYm"
   },
   "source": [
    "#### Barplot"
   ]
  },
  {
   "cell_type": "markdown",
   "metadata": {
    "id": "nPj4wkrG7paf"
   },
   "source": [
    "What if we want to compare the sales between the genres?\n",
    "\n",
    "We have to use:\n",
    "- Genre (categorical)\n",
    "- Mean of global sales per genre (numerical)\n",
    "\n",
    "#### How to visualize which genres bring higher average global sales?"
   ]
  },
  {
   "cell_type": "code",
   "execution_count": null,
   "metadata": {
    "colab": {
     "base_uri": "https://localhost:8080/",
     "height": 296
    },
    "id": "-bS_uenkunD_",
    "outputId": "8fa94410-abd7-46f9-bf0b-35df65655055"
   },
   "outputs": [],
   "source": [
    "sns.barplot(data=top3_data, x=\"Genre\", y=\"Global_Sales\", estimator=np.mean)"
   ]
  },
  {
   "cell_type": "markdown",
   "metadata": {
    "id": "QfU2rff08oN3"
   },
   "source": [
    "If you remember, we had earlier seen EA had a larger market share of sales\n",
    "\n",
    "Along with this fact, majority of games EA made was sports\n",
    "\n",
    "This ultimately proves the fact that Sports has a high market share in the industry, as shown in the barchart"
   ]
  },
  {
   "cell_type": "markdown",
   "metadata": {
    "id": "k6-KYQOLXjv7"
   },
   "source": [
    "## Multivariate"
   ]
  },
  {
   "cell_type": "markdown",
   "metadata": {
    "id": "umKTVibpoI_S"
   },
   "source": [
    "Let’s try to add 3rd variable on the top of the plots we have seen so far\n",
    "\n",
    "\n"
   ]
  },
  {
   "cell_type": "markdown",
   "metadata": {
    "id": "Tj4CT9phXl1S"
   },
   "source": [
    "#### NNC\n",
    "\n",
    "#### How can we visualize the correlation between NA and EU, but for different genres?\n",
    "\n",
    "Here, we have two numerical and one categorical variable!\n",
    "\n",
    "Numerical-Numerical → Scatterplot, need to add info about one categorical variable\n",
    "\t\n",
    "Numerical-Categorical → Boxplot, need to add info about one numerical variable\n",
    "\n",
    "#### Let's ask two questions\n",
    "- Is it Possible to add information about a continuous variable upon boxplots?\n",
    "  - Perhaps No\n",
    "- Is it Possible to add information about a categorical variable on scatterplot?\n",
    "  - Yes, use colors\n",
    "\n",
    "Solution: Scatterplot with color"
   ]
  },
  {
   "cell_type": "code",
   "execution_count": null,
   "metadata": {
    "colab": {
     "base_uri": "https://localhost:8080/",
     "height": 470
    },
    "id": "eo-J9TzOVQkv",
    "outputId": "de860c00-75cf-4bbd-a9c4-2f0b11841b63"
   },
   "outputs": [],
   "source": [
    "plt.figure(figsize=(7,7))\n",
    "sns.scatterplot(x='NA_Sales', y='EU_Sales',hue='Publisher',data=top3_data)\n",
    "plt.xticks(fontsize=15)\n",
    "plt.yticks(fontsize=15)\n",
    "plt.xlabel('NA Sales',fontsize=15)\n",
    "plt.ylabel('EU Sales',fontsize=15)\n",
    "plt.title('NA vs EU, per Genre', fontsize=15)\n",
    "plt.show()"
   ]
  },
  {
   "cell_type": "markdown",
   "metadata": {
    "id": "nCrmZGF8YP71"
   },
   "source": [
    "Inferences:\n",
    "- If we see this plot, we can notice now that Namco has lower sales correlation, while Activision has a concentrated positivee correlation\n",
    "- EA also has positive correlation, but it's more spread compared to Activision\n"
   ]
  },
  {
   "cell_type": "markdown",
   "metadata": {
    "id": "Ci3ZM8aD1IAR"
   },
   "source": [
    "## CCN\n",
    "\n",
    "#### Now, how will you visualize Global Sales for each publisher, but separated by Genres?\n",
    "\n",
    "We have two categorical and one numerical data here!\n",
    "\n",
    "- Categorical-Categorical → Stacked Barplot, need to add info about one continuous feature\n",
    "\n",
    "- Categorical-Numerical → Boxplots, need to add categorical variable\n",
    "\n",
    "Which one is easier and possible?\n",
    "We can add one categorical variable by “dodging” multiple boxplots\n",
    "\n",
    "Solution: Dodged Boxplots \n",
    "\t"
   ]
  },
  {
   "cell_type": "code",
   "execution_count": null,
   "metadata": {
    "colab": {
     "base_uri": "https://localhost:8080/",
     "height": 629
    },
    "id": "_IDsS-A0YsW8",
    "outputId": "a3e4079b-da80-4acf-c78a-e3e8d6783a14"
   },
   "outputs": [],
   "source": [
    "plt.figure(figsize=(15,10))\n",
    "sns.boxplot(x='Publisher',y='Global_Sales',hue='Genre',data=top3_data)\n",
    "plt.xlabel('Genre', fontsize=12)\n",
    "plt.ylabel('Global Sales', fontsize=12)\n",
    "plt.xticks(fontsize=12)\n",
    "plt.yticks(fontsize=12)\n",
    "plt.title('Global Sales for each Publisher, Genre wise', fontsize=15)\n",
    "plt.show()"
   ]
  },
  {
   "cell_type": "markdown",
   "metadata": {
    "id": "sFeTAK2TGLKh"
   },
   "source": [
    "Inferences:\n",
    "\n",
    "- Namco has lower median sales in every Genre as compared to all publishers\n",
    "\n",
    "- Looking at `Action` Genre, even though EA and Activision has almost similar medians, Action is more spread in EA\n",
    "\n",
    "- An interesting thing to notice here is that, for each of the three publishers, three different genre of games have higher sales median:\n",
    "  - Namco: Action\n",
    "  - Activision: Misc\n",
    "  - EA: Sports\n"
   ]
  },
  {
   "cell_type": "markdown",
   "metadata": {
    "id": "8o6MnicLH9WB"
   },
   "source": [
    "## NNN\n",
    "\n",
    "So far we have seen how NA and EU are correlated with each other.\n",
    "\n",
    "But how can we compare the data when we have 3 numerical variables?\n",
    "\n",
    "#### Say, the question is, how does rank affect the correlation between NA and EU Sales?\n",
    "\n",
    "We have used scatter plot for two numerical features, we have two options here\n",
    "- Make a 3D Scatterplot \n",
    "  - → nice for 3D viz, but tough to report/show in static setting\n",
    "- Add info about 3rd feature on the 2D scatter plot itself  \n",
    "  - → Bubble Chart\n"
   ]
  },
  {
   "cell_type": "code",
   "execution_count": null,
   "metadata": {
    "colab": {
     "base_uri": "https://localhost:8080/",
     "height": 624
    },
    "id": "HZQ2lY_IF6RF",
    "outputId": "ae3fc545-e01e-475e-c94d-43ce5756bca0"
   },
   "outputs": [],
   "source": [
    "plt.figure(figsize=(15,10))\n",
    "sns.scatterplot(x=data['NA_Sales'], y=data['JP_Sales'],data=top3_data, size=data['Rank'], sizes=(1, 200))\n",
    "plt.xlabel('NA_Sales',fontsize=10)\n",
    "plt.ylabel('JP Sales', fontsize=10)\n",
    "plt.title('NA vs JP Sales, based on ranking of games', fontsize=15)\n",
    "plt.show()"
   ]
  },
  {
   "cell_type": "markdown",
   "metadata": {
    "id": "Ku1ocNMGNEHr"
   },
   "source": [
    "Inferences:\n",
    "- Now interestingly, we can notice that higher ranking games are actually on the upper scale of sales, while lower ranking games are low on the sales side"
   ]
  },
  {
   "cell_type": "markdown",
   "metadata": {
    "id": "DPRLtzNgH2Vw"
   },
   "source": [
    "## Subplots\n",
    "\n",
    "So far we have **shown only 1 plot** using `plt.show()`\n",
    "\n",
    "Say, we want to plot the trend of NA and every other region separately in a \n",
    "single figure\n",
    "\n",
    "#### How can we plot multiple smaller plots at the same time?\n",
    "\n",
    "We will use **subplots**, i.e., **divide the figure into smaller plots**\n",
    "\n",
    "\n",
    "We will be using `plt.subplots()`\n",
    "It takes mainly 2 arguments:\n",
    "\n",
    "1. **No. of rows** we want to **divide our figure** into\n",
    "\n",
    "2. **No. of columns** we want to **divide our figure** into\n",
    "\n",
    "It returns 2 things:\n",
    "- Figure\n",
    "- Numpy Matrix of subplots\n"
   ]
  },
  {
   "cell_type": "code",
   "execution_count": null,
   "metadata": {
    "colab": {
     "base_uri": "https://localhost:8080/",
     "height": 733
    },
    "id": "lZpBKE4SAxc4",
    "outputId": "115d05a4-d4fd-4cdb-8122-9d90090b284e"
   },
   "outputs": [],
   "source": [
    "fig = plt.figure(figsize=(15,10))\n",
    "sns.scatterplot(top3_data['NA_Sales'], top3_data['EU_Sales'])\n",
    "fig.suptitle('Main title')\n",
    "plt.show()"
   ]
  },
  {
   "cell_type": "code",
   "execution_count": null,
   "metadata": {
    "colab": {
     "base_uri": "https://localhost:8080/",
     "height": 399
    },
    "id": "KwH5jsAHBOmJ",
    "outputId": "e62922f1-91cb-4d44-be0b-daaa174e300a"
   },
   "outputs": [],
   "source": [
    "fig = plt.figure(figsize=(15,10))\n",
    "\n",
    "plt.subplot(2, 3, 1)\n",
    "sns.scatterplot(x='NA_Sales', y='EU_Sales', data=top3_data)\n",
    "\n",
    "\n",
    "plt.subplot(2, 3, 3)\n",
    "sns.scatterplot(x='NA_Sales', y='JP_Sales', data=top3_data, color='red')\n",
    "\n",
    "fig.suptitle('Main title')\n",
    "\n"
   ]
  },
  {
   "cell_type": "code",
   "execution_count": null,
   "metadata": {
    "colab": {
     "base_uri": "https://localhost:8080/",
     "height": 610
    },
    "id": "mUigIJuIH2Vx",
    "outputId": "f57d5fa3-a8ac-407a-ae99-561edddb7ca4"
   },
   "outputs": [],
   "source": [
    "fig, ax = plt.subplots(2, 2, figsize=(15,10))\n",
    "ax[0,0].scatter(top3_data['NA_Sales'], top3_data['EU_Sales'])\n",
    "ax[0,1].scatter(top3_data['NA_Sales'], top3_data['JP_Sales'])\n",
    "ax[1,0].scatter(top3_data['NA_Sales'], top3_data['Other_Sales'])\n",
    "ax[1,1].scatter(top3_data['NA_Sales'], top3_data['Global_Sales'])"
   ]
  },
  {
   "cell_type": "markdown",
   "metadata": {
    "id": "P1Wi5HpAd9Ju"
   },
   "source": [
    "Notice, we are using 2 numbers during each plotting\n",
    "\n",
    "Think of subplots as a 2x2 grids, with the two numbers denoting `x,y`/`row,column` coordinate of each subplot\n",
    "\n",
    "#### What is this `ax` parameter exactly?"
   ]
  },
  {
   "cell_type": "code",
   "execution_count": null,
   "metadata": {
    "colab": {
     "base_uri": "https://localhost:8080/"
    },
    "id": "gYJzcA8m398I",
    "outputId": "127f9476-3cdf-447a-a7e5-cfc2b699307a"
   },
   "outputs": [],
   "source": [
    "print(ax)"
   ]
  },
  {
   "cell_type": "markdown",
   "metadata": {
    "id": "QgLZFQ0_eK5I"
   },
   "source": [
    "Notice, \n",
    "\n",
    "- It's a 2x2 matrix of multiple axes objects\n",
    "\n",
    "We are plotting each plot on a single `axes` object. \n",
    "\n",
    "Hence, we are using a 2D notation to access each grid/axes object of the subplot"
   ]
  },
  {
   "cell_type": "markdown",
   "metadata": {
    "id": "2x5q0iMoH2Vy"
   },
   "source": [
    "Instead of accesing the individual axes using `ax[0, 0]`, `ax[1, 0]`, there is another method we can use too\n"
   ]
  },
  {
   "cell_type": "code",
   "execution_count": null,
   "metadata": {
    "colab": {
     "base_uri": "https://localhost:8080/",
     "height": 694
    },
    "id": "lMwh6phOH2Vy",
    "outputId": "063b91be-1cc8-49dd-ee9f-1576c5099425"
   },
   "outputs": [],
   "source": [
    "import matplotlib.pyplot as plt\n",
    "import numpy as np\n",
    "\n",
    "plt.figure(figsize=(20,12)).suptitle(\"NA Sales vs regions\",fontsize=20)\n",
    "# Using a 2x3 subplot\n",
    "plt.subplot(2, 3, 1)\n",
    "sns.scatterplot(x='NA_Sales', y='EU_Sales', data=top3_data)\n",
    "\n",
    "\n",
    "plt.subplot(2, 3, 3)\n",
    "sns.scatterplot(x='NA_Sales', y='JP_Sales', data=top3_data, color='red')\n",
    "\n",
    "\n",
    "plt.subplot(2, 3, 4)\n",
    "sns.scatterplot(x='NA_Sales', y='Other_Sales', data=top3_data, color='green')\n",
    "\n",
    "plt.subplot(2, 3, 6)\n",
    "sns.scatterplot(x='NA_Sales', y='Global_Sales', data=top3_data, color='orange')\n",
    "\n",
    "plt.show()"
   ]
  },
  {
   "cell_type": "markdown",
   "metadata": {
    "id": "70R6JQ1XVz4I"
   },
   "source": [
    "`Suptitle` adds a title to the whole figure"
   ]
  },
  {
   "cell_type": "markdown",
   "metadata": {
    "id": "yoA8-NHAH2Vz"
   },
   "source": [
    "#### We need to observe a few things here\n",
    "\n",
    "  1. The 3rd paramter defines the position of the plot\n",
    "  2. The position/numbering starts from 1\n",
    "  3. It goes on row-wise from start of row to its finish\n",
    "  4. Empty subplots don't show any axes "
   ]
  },
  {
   "cell_type": "markdown",
   "metadata": {
    "id": "_tXWbyZ0IkF8"
   },
   "source": [
    "#### But how do we know which plot belongs to which category?\n",
    "\n",
    "Basically the context of each plot\n",
    "\n",
    "We can use `title`, `x/y label` and every other functionality for the subplots too\n",
    "\n"
   ]
  },
  {
   "cell_type": "code",
   "execution_count": null,
   "metadata": {
    "colab": {
     "base_uri": "https://localhost:8080/",
     "height": 694
    },
    "id": "IeTWHKfDJoXJ",
    "outputId": "0f6b746d-12a9-4b4a-9658-1ce3f94934d7"
   },
   "outputs": [],
   "source": [
    "plt.figure(figsize=(20,12)).suptitle(\"NA Sales vs regions\",fontsize=20)\n",
    "# Using a 2x3 subplot\n",
    "plt.subplot(2, 3, 1)\n",
    "sns.scatterplot(x='NA_Sales', y='EU_Sales', data=top3_data)\n",
    "plt.title('NA vs EU Sales', fontsize=12)\n",
    "plt.xlabel('NA', fontsize=12)\n",
    "plt.ylabel('EU', fontsize=12)\n",
    "\n",
    "\n",
    "\n",
    "plt.subplot(2, 3, 3)\n",
    "sns.scatterplot(x='NA_Sales', y='JP_Sales', data=top3_data, color='red')\n",
    "plt.title('NA vs JP Sales', fontsize=12)\n",
    "plt.xlabel('NA', fontsize=12)\n",
    "plt.ylabel('JP', fontsize=12)\n",
    "\n",
    "\n",
    "plt.subplot(2, 3, 4)\n",
    "sns.scatterplot(x='NA_Sales', y='Other_Sales', data=top3_data, color='green')\n",
    "plt.title('NA vs Other Region Sales', fontsize=12)\n",
    "plt.xlabel('NA', fontsize=12)\n",
    "plt.ylabel('Other', fontsize=12)\n",
    "\n",
    "plt.subplot(2, 3, 6)\n",
    "sns.scatterplot(x='NA_Sales', y='Global_Sales', data=top3_data, color='orange')\n",
    "plt.title('NA vs Global Sales', fontsize=12)\n",
    "plt.xlabel('NA', fontsize=12)\n",
    "plt.ylabel('Global', fontsize=12)\n",
    "\n",
    "plt.show()"
   ]
  },
  {
   "cell_type": "markdown",
   "metadata": {
    "id": "SZAgA9mAHaEe"
   },
   "source": [
    "#### What if we want to span a plot across the full length of the plot?\n",
    "\n",
    "Think of this in **terms of a grid.**\n",
    "\n",
    "Currently we are **dividing our plot into 2 rows and 3 columns**\n",
    "\n",
    "But we want our plot to be across the middle column, with grids 2 and 5\n",
    "\n",
    "This can be said as a **single column**\n",
    "\n",
    "So, this problem can be simplified to plotting the plot across **second column in a 1 row 3 column subplot**"
   ]
  },
  {
   "cell_type": "code",
   "execution_count": null,
   "metadata": {
    "colab": {
     "base_uri": "https://localhost:8080/",
     "height": 694
    },
    "id": "Cftbb315H9Rf",
    "outputId": "7278b2d5-9540-4207-f019-9672001b4340"
   },
   "outputs": [],
   "source": [
    "plt.figure(figsize=(20,12)).suptitle(\"Video Games Sales Dashboard\",fontsize=20)\n",
    "# Using a 2x3 subplot\n",
    "plt.subplot(2, 3, 1)\n",
    "sns.scatterplot(x='NA_Sales', y='EU_Sales', data=top3_data)\n",
    "plt.title('NA vs EU Sales', fontsize=12)\n",
    "plt.xlabel('NA', fontsize=12)\n",
    "plt.ylabel('EU', fontsize=12)\n",
    "\n",
    "\n",
    "\n",
    "plt.subplot(2, 3, 3)\n",
    "sns.scatterplot(x='NA_Sales', y='JP_Sales', data=top3_data, color='red')\n",
    "plt.title('NA vs JP Sales', fontsize=12)\n",
    "plt.xlabel('NA', fontsize=12)\n",
    "plt.ylabel('JP', fontsize=12)\n",
    "\n",
    "# Countplot of publishers\n",
    "plt.subplot(1,3,2)\n",
    "sns.countplot(x='Publisher', data=top3_data)\n",
    "plt.title('Count of games by each Publisher', fontsize=12)\n",
    "plt.xlabel('Publisher', fontsize=12)\n",
    "plt.ylabel('Count of games', fontsize=12)\n",
    "\n",
    "plt.subplot(2, 3, 4)\n",
    "sns.scatterplot(x='NA_Sales', y='Other_Sales', data=top3_data, color='green')\n",
    "plt.title('NA vs Other Region Sales', fontsize=12)\n",
    "plt.xlabel('NA', fontsize=12)\n",
    "plt.ylabel('Other', fontsize=12)\n",
    "\n",
    "plt.subplot(2, 3, 6)\n",
    "sns.scatterplot(x='NA_Sales', y='Global_Sales', data=top3_data, color='orange')\n",
    "plt.title('NA vs Global Sales', fontsize=12)\n",
    "plt.xlabel('NA', fontsize=12)\n",
    "plt.ylabel('Global', fontsize=12)\n",
    "\n",
    "plt.show()"
   ]
  },
  {
   "cell_type": "markdown",
   "metadata": {
    "id": "UPo4IRvR-znO"
   },
   "source": [
    "## Joint Plot"
   ]
  },
  {
   "cell_type": "markdown",
   "metadata": {
    "id": "lluBjaU3XNIV"
   },
   "source": [
    "\n",
    "#### Let's see a few more plots that we can visualize using `seaborn`\n",
    "\n",
    "#### Joint Plot\n",
    "\n",
    "- It draws a plot of two variables \n",
    "\n",
    "\n",
    "- It shows scatter, histogram and KDE graphs in the same plot.\n",
    "\n",
    "\n",
    "#### Let's check it out\n",
    "\n",
    "- We will take **`NA_Sales` as x-coordinates** and **`EU_Sales` as y-coordinates**\n",
    "\n",
    "\n",
    "- We can select from different values for **parameter `kind`** and it **will plot accordingly**\n",
    "    - \"scatter\" | \"kde\" | \"hist\" | \"hex\" | \"reg\" | \"resid\"\n",
    "\n",
    "\n",
    "- We will set **parameter `kind`** to **`'reg'`** here"
   ]
  },
  {
   "cell_type": "code",
   "execution_count": null,
   "metadata": {
    "id": "5PFLVjMUXNIV"
   },
   "outputs": [],
   "source": [
    "sns.jointplot(x='NA_Sales', y='EU_Sales', data=top3_data)\n",
    "plt.show()"
   ]
  },
  {
   "cell_type": "markdown",
   "metadata": {
    "id": "kf3M4aTXXNIV"
   },
   "source": [
    "#### As we can see here:\n",
    "\n",
    "- `jointplot` plots **scatter, histogram and KDE in the same graph** when we set **`kind=reg`**\n",
    "\n",
    "\n",
    "- Scatter shows the **scattering of (`NA_Sales`, `EU_Sales`) pairs as (x, y) points**\n",
    "\n",
    "\n",
    "- Histogram and KDE shows the separate distributions of `NA_Sales` and `EU_Sales` in the data\n",
    "\n",
    "\n",
    "#### We can also add hue to Joint Plot\n",
    "\n",
    "- Let's check how the 3 Genres of games are distributed in terms of `NA_Sales` and 'EU_Sales`\n",
    "\n"
   ]
  },
  {
   "cell_type": "code",
   "execution_count": null,
   "metadata": {
    "id": "SrYNJF4NXNIW"
   },
   "outputs": [],
   "source": [
    "sns.jointplot(x='NA_Sales', y='EU_Sales', data=top3_data, hue='Genre')\n",
    "plt.show()"
   ]
  },
  {
   "cell_type": "markdown",
   "metadata": {
    "id": "aOSqS6ELXNIW"
   },
   "source": [
    "## Pair Plot\n",
    "\n",
    "- `pairplot()` in `seaborn` creates a **grid of Axes by default**\n",
    "\n",
    "\n",
    "- Each numeric attribute in `data` is shared across the y-axes across a single row and the x-axes across a single column. \n",
    "\n",
    "\n",
    "- It displays a **scatterplot between each pair of attributes in the data** with different **hue** for each category\n",
    "\n",
    "\n",
    "#### Since, the diagonal plots belong to same attribute at both x and y axis, they are treated differently\n",
    "\n",
    "- A univariate distribution plot is drawn to show the marginal distribution of the data in each column.\n",
    "\n",
    "\n",
    "#### Let's check it out"
   ]
  },
  {
   "cell_type": "code",
   "execution_count": null,
   "metadata": {
    "id": "t8PsqXyWXNIW"
   },
   "outputs": [],
   "source": [
    "sns.pairplot(data=top3_data, hue='Genre')\n",
    "plt.show()"
   ]
  },
  {
   "cell_type": "markdown",
   "metadata": {
    "id": "sGtO3qSVXNIW"
   },
   "source": [
    "#### Notice that:\n",
    "\n",
    "- It is **like a scatterplot of video games with `hue='Genre'`**\n",
    "\n",
    "\n",
    "- But the **scatter is plotted between every pair of attributes**\n",
    "\n",
    "\n",
    "- **Colour Legends** for each genre category are given on **right side**\n",
    "\n",
    "\n",
    "- It shows **relation between each pair of attributes**\n",
    "\n",
    "\n",
    "#### Diagonal plots are different from scatterplots\n",
    "\n",
    "- Because x and y axis have same attribute\n",
    "\n",
    "\n",
    "- Diagonal plots show a univariate curve category-wise for each attribute\n",
    "\n",
    "\n",
    "#### It is also possible to show a subset of variables or plot different variables on the rows and columns\n",
    "\n",
    "- Feel free to experiment this on your own\n",
    "\n"
   ]
  },
  {
   "cell_type": "markdown",
   "metadata": {
    "id": "Mtis6ypWXNIZ"
   },
   "source": [
    "## Finding correlations among attributes\n",
    "\n",
    "- We can find the level of correlation b/w different attributes (variables)\n",
    "\n",
    "#### But what exactly is a correlation?\n",
    "\n",
    "- Two variables are correlated when **they change in same/opposite direction**\n",
    "\n",
    "\n",
    "#### We can check coefficient of correlation using `corr()`"
   ]
  },
  {
   "cell_type": "code",
   "execution_count": null,
   "metadata": {
    "id": "WKbY0LSpXNIZ"
   },
   "outputs": [],
   "source": [
    "top3_data.corr()"
   ]
  },
  {
   "cell_type": "markdown",
   "metadata": {
    "id": "yqiO40g2XNIZ"
   },
   "source": [
    "- Higher the **MAGNITUDE** of coefficient of correlation, more the variables are **correlated**\n",
    "\n",
    "- The **sign just determines the direction of change**\n",
    "    - `+` means increase in value of one variable causes increase in value of other variable\n",
    "    - `-` means increase in value of one variable causes decrease in value of other variable, and vice versa\n",
    "\n",
    "\n",
    "#### As you can see, `Global Sales` and `Rank` have the highest correlation coeff of -0.91\n",
    "\n",
    "#### Let's plot it using scatter plot"
   ]
  },
  {
   "cell_type": "code",
   "execution_count": null,
   "metadata": {
    "id": "pGM1sXlTXNIZ",
    "scrolled": true
   },
   "outputs": [],
   "source": [
    "sns.scatterplot(x= 'Global_Sales', y= 'Rank', data = top3_data)\n",
    "plt.show()"
   ]
  },
  {
   "cell_type": "markdown",
   "metadata": {
    "id": "nqf0uktPXNIZ"
   },
   "source": [
    "- When `petal_length` increases, `petal_width` also increases\n",
    "\n",
    "#### But Remember\n",
    "\n",
    "**Correlation does NOT mean Causation**\n",
    "\n",
    "- We cannot conclude that change in values of a variable is causing change in values of other variable\n",
    "\n",
    "#### Now, Let's look at a way to visualize correlation among variables\n",
    "\n",
    "### Heat Map\n",
    "\n",
    "- A heat map plots rectangular data as a color-encoded matrix.\n",
    "\n",
    "- **Stronger the colour, stronger the correlation b/w the variables**\n",
    "\n",
    "#### Let's plot a Heat Map using correlation coefficient matrix generated using `corr()`"
   ]
  },
  {
   "cell_type": "code",
   "execution_count": null,
   "metadata": {
    "id": "R594xk_QXNIZ"
   },
   "outputs": [],
   "source": [
    "sns.heatmap(top3_data.corr(), cmap= \"Blues\", annot=True)\n",
    "plt.show()\n"
   ]
  },
  {
   "cell_type": "markdown",
   "metadata": {
    "id": "68oncWZ0XNIa"
   },
   "source": [
    "- **`annot=True`** is for writing correlation coeff inside each cell\n",
    "\n",
    "#### You can change the colours of cells in Heat Map if you like\n",
    "\n",
    "- There are a lot of options available!"
   ]
  },
  {
   "cell_type": "code",
   "execution_count": null,
   "metadata": {
    "id": "k2qyQOfxXNIa"
   },
   "outputs": [],
   "source": [
    "print(plt.colormaps())"
   ]
  },
  {
   "cell_type": "code",
   "execution_count": null,
   "metadata": {
    "id": "5iK79gP4XNIa"
   },
   "outputs": [],
   "source": [
    "sns.heatmap(top3_data.corr(), cmap= \"coolwarm\", annot=True)\n",
    "plt.show()"
   ]
  },
  {
   "cell_type": "code",
   "execution_count": null,
   "metadata": {
    "id": "LOgLo8uuAoUu"
   },
   "outputs": [],
   "source": []
  }
 ],
 "metadata": {
  "colab": {
   "provenance": []
  },
  "kernelspec": {
   "display_name": "Python 3 (ipykernel)",
   "language": "python",
   "name": "python3"
  },
  "language_info": {
   "codemirror_mode": {
    "name": "ipython",
    "version": 3
   },
   "file_extension": ".py",
   "mimetype": "text/x-python",
   "name": "python",
   "nbconvert_exporter": "python",
   "pygments_lexer": "ipython3",
   "version": "3.10.5"
  }
 },
 "nbformat": 4,
 "nbformat_minor": 1
}
