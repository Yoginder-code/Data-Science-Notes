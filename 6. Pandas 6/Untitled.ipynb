{
 "cells": [
  {
   "cell_type": "code",
   "execution_count": 1,
   "id": "da195b36",
   "metadata": {},
   "outputs": [],
   "source": [
    "import pandas as pd"
   ]
  },
  {
   "cell_type": "code",
   "execution_count": 5,
   "id": "5ac2327d",
   "metadata": {},
   "outputs": [],
   "source": [
    "a = ['How' ,'much' ,'wood' ,'would', 'a' ,'woodchuck', 'chuck' ,'if' ,'a', 'woodchuck' ,\n",
    "      'could' ,'chuck', 'wood']"
   ]
  },
  {
   "cell_type": "code",
   "execution_count": 6,
   "id": "20b2f340",
   "metadata": {},
   "outputs": [],
   "source": [
    "df = pd.DataFrame(a)"
   ]
  },
  {
   "cell_type": "code",
   "execution_count": 11,
   "id": "6518d3ee",
   "metadata": {},
   "outputs": [
    {
     "data": {
      "text/plain": [
       "wood         2\n",
       "a            2\n",
       "woodchuck    2\n",
       "chuck        2\n",
       "How          1\n",
       "much         1\n",
       "would        1\n",
       "if           1\n",
       "could        1\n",
       "Name: 0, dtype: int64"
      ]
     },
     "execution_count": 11,
     "metadata": {},
     "output_type": "execute_result"
    }
   ],
   "source": [
    "df[0].value_counts()"
   ]
  },
  {
   "cell_type": "code",
   "execution_count": null,
   "id": "c143a829",
   "metadata": {},
   "outputs": [],
   "source": []
  },
  {
   "cell_type": "code",
   "execution_count": null,
   "id": "0ea0cfa1",
   "metadata": {},
   "outputs": [],
   "source": []
  }
 ],
 "metadata": {
  "kernelspec": {
   "display_name": "Python 3 (ipykernel)",
   "language": "python",
   "name": "python3"
  },
  "language_info": {
   "codemirror_mode": {
    "name": "ipython",
    "version": 3
   },
   "file_extension": ".py",
   "mimetype": "text/x-python",
   "name": "python",
   "nbconvert_exporter": "python",
   "pygments_lexer": "ipython3",
   "version": "3.10.5"
  }
 },
 "nbformat": 4,
 "nbformat_minor": 5
}
