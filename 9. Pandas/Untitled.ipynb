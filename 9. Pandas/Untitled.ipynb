{
 "cells": [
  {
   "cell_type": "code",
   "execution_count": 1,
   "id": "eba58bf5",
   "metadata": {},
   "outputs": [],
   "source": [
    "import pandas as pd"
   ]
  },
  {
   "cell_type": "code",
   "execution_count": 8,
   "id": "a3bec5d4",
   "metadata": {},
   "outputs": [],
   "source": [
    "df = pd.DataFrame({\n",
    "  \"Accessories\": [\"Laptop\", \"Laptop\", \"Ipad\", \"Ipad\", \"Tablet\", \"Laptop\"],\n",
    "  \"customer\": [\"Andrew\", \"Andrew\", \"Tom\", \"Andrew\", \"Tobey\", \"Peter\"],\n",
    "  \"quantity\": [1, 2, 2, 3, 1, 2],\n",
    "})"
   ]
  },
  {
   "cell_type": "code",
   "execution_count": 9,
   "id": "cf7ec7ff",
   "metadata": {},
   "outputs": [
    {
     "data": {
      "text/plain": [
       "Accessories  customer\n",
       "Laptop       Andrew      1\n",
       "             Andrew      2\n",
       "Ipad         Tom         2\n",
       "             Andrew      3\n",
       "Tablet       Tobey       1\n",
       "Laptop       Peter       2\n",
       "Name: quantity, dtype: int64"
      ]
     },
     "execution_count": 9,
     "metadata": {},
     "output_type": "execute_result"
    }
   ],
   "source": [
    "df.set_index([\"Accessories\", \"customer\"])[\"quantity\"]"
   ]
  },
  {
   "cell_type": "code",
   "execution_count": 10,
   "id": "0e7cc0b3",
   "metadata": {},
   "outputs": [
    {
     "data": {
      "text/plain": [
       "Accessories  customer\n",
       "Ipad         Andrew      3\n",
       "             Tom         2\n",
       "Laptop       Andrew      3\n",
       "             Peter       2\n",
       "Tablet       Tobey       1\n",
       "Name: quantity, dtype: int64"
      ]
     },
     "execution_count": 10,
     "metadata": {},
     "output_type": "execute_result"
    }
   ],
   "source": [
    "df.groupby(['Accessories', 'customer']).quantity.sum()"
   ]
  },
  {
   "cell_type": "code",
   "execution_count": 2,
   "id": "d4afc55a",
   "metadata": {},
   "outputs": [],
   "source": [
    "df = pd.DataFrame({'Date':[\"2015-12-06\", \"2011-12-27\", \"2015-09-07\", \"2012-12-21\", \"2020-02-13\", \"2015-06-09\"], \n",
    "                   'RID':[498, 721, 375, 464, 813, 853], 'Phy':[22, 45, 1, 65, 22, 17], \n",
    "                   'Chem':[52, 56, 32, 50, 24, 61], 'Math':[63, 37, 68, 62, 43 ,42]}) "
   ]
  },
  {
   "cell_type": "code",
   "execution_count": 3,
   "id": "4d64d9f9",
   "metadata": {},
   "outputs": [
    {
     "data": {
      "text/html": [
       "<div>\n",
       "<style scoped>\n",
       "    .dataframe tbody tr th:only-of-type {\n",
       "        vertical-align: middle;\n",
       "    }\n",
       "\n",
       "    .dataframe tbody tr th {\n",
       "        vertical-align: top;\n",
       "    }\n",
       "\n",
       "    .dataframe thead th {\n",
       "        text-align: right;\n",
       "    }\n",
       "</style>\n",
       "<table border=\"1\" class=\"dataframe\">\n",
       "  <thead>\n",
       "    <tr style=\"text-align: right;\">\n",
       "      <th></th>\n",
       "      <th>Date</th>\n",
       "      <th>RID</th>\n",
       "      <th>Phy</th>\n",
       "      <th>Chem</th>\n",
       "      <th>Math</th>\n",
       "    </tr>\n",
       "  </thead>\n",
       "  <tbody>\n",
       "    <tr>\n",
       "      <th>0</th>\n",
       "      <td>2015-12-06</td>\n",
       "      <td>498</td>\n",
       "      <td>22</td>\n",
       "      <td>52</td>\n",
       "      <td>63</td>\n",
       "    </tr>\n",
       "    <tr>\n",
       "      <th>1</th>\n",
       "      <td>2011-12-27</td>\n",
       "      <td>721</td>\n",
       "      <td>45</td>\n",
       "      <td>56</td>\n",
       "      <td>37</td>\n",
       "    </tr>\n",
       "    <tr>\n",
       "      <th>2</th>\n",
       "      <td>2015-09-07</td>\n",
       "      <td>375</td>\n",
       "      <td>1</td>\n",
       "      <td>32</td>\n",
       "      <td>68</td>\n",
       "    </tr>\n",
       "    <tr>\n",
       "      <th>3</th>\n",
       "      <td>2012-12-21</td>\n",
       "      <td>464</td>\n",
       "      <td>65</td>\n",
       "      <td>50</td>\n",
       "      <td>62</td>\n",
       "    </tr>\n",
       "    <tr>\n",
       "      <th>4</th>\n",
       "      <td>2020-02-13</td>\n",
       "      <td>813</td>\n",
       "      <td>22</td>\n",
       "      <td>24</td>\n",
       "      <td>43</td>\n",
       "    </tr>\n",
       "    <tr>\n",
       "      <th>5</th>\n",
       "      <td>2015-06-09</td>\n",
       "      <td>853</td>\n",
       "      <td>17</td>\n",
       "      <td>61</td>\n",
       "      <td>42</td>\n",
       "    </tr>\n",
       "  </tbody>\n",
       "</table>\n",
       "</div>"
      ],
      "text/plain": [
       "         Date  RID  Phy  Chem  Math\n",
       "0  2015-12-06  498   22    52    63\n",
       "1  2011-12-27  721   45    56    37\n",
       "2  2015-09-07  375    1    32    68\n",
       "3  2012-12-21  464   65    50    62\n",
       "4  2020-02-13  813   22    24    43\n",
       "5  2015-06-09  853   17    61    42"
      ]
     },
     "execution_count": 3,
     "metadata": {},
     "output_type": "execute_result"
    }
   ],
   "source": [
    "df"
   ]
  },
  {
   "cell_type": "code",
   "execution_count": 4,
   "id": "0f7adee9",
   "metadata": {},
   "outputs": [],
   "source": [
    "df[\"Month\"] = pd.to_datetime(df[\"Date\"]).dt.strftime('%b')"
   ]
  },
  {
   "cell_type": "code",
   "execution_count": 5,
   "id": "e746f670",
   "metadata": {},
   "outputs": [
    {
     "data": {
      "text/plain": [
       "0    Dec\n",
       "1    Dec\n",
       "2    Sep\n",
       "3    Dec\n",
       "4    Feb\n",
       "5    Jun\n",
       "Name: Month, dtype: object"
      ]
     },
     "execution_count": 5,
     "metadata": {},
     "output_type": "execute_result"
    }
   ],
   "source": [
    "df[\"Month\"]"
   ]
  },
  {
   "cell_type": "code",
   "execution_count": 7,
   "id": "b7857fb5",
   "metadata": {},
   "outputs": [
    {
     "data": {
      "text/plain": [
       "0    DEC\n",
       "1    DEC\n",
       "2    SEP\n",
       "3    DEC\n",
       "4    FEB\n",
       "5    JUN\n",
       "Name: Month, dtype: object"
      ]
     },
     "execution_count": 7,
     "metadata": {},
     "output_type": "execute_result"
    }
   ],
   "source": [
    "df[\"Month\"] = df[\"Month\"].str.upper()\n",
    "df[\"Month\"]"
   ]
  },
  {
   "cell_type": "code",
   "execution_count": 8,
   "id": "a80a9793",
   "metadata": {},
   "outputs": [],
   "source": [
    "d = df.groupby(\"Month\").agg({\"Date\":\"count\",\"Chem\":\"mean\",\"Phy\":\"mean\", \"Math\":\"mean\"}).reset_index().round(2)"
   ]
  },
  {
   "cell_type": "code",
   "execution_count": 9,
   "id": "b16e3de2",
   "metadata": {},
   "outputs": [
    {
     "data": {
      "text/html": [
       "<div>\n",
       "<style scoped>\n",
       "    .dataframe tbody tr th:only-of-type {\n",
       "        vertical-align: middle;\n",
       "    }\n",
       "\n",
       "    .dataframe tbody tr th {\n",
       "        vertical-align: top;\n",
       "    }\n",
       "\n",
       "    .dataframe thead th {\n",
       "        text-align: right;\n",
       "    }\n",
       "</style>\n",
       "<table border=\"1\" class=\"dataframe\">\n",
       "  <thead>\n",
       "    <tr style=\"text-align: right;\">\n",
       "      <th></th>\n",
       "      <th>Month</th>\n",
       "      <th>Date</th>\n",
       "      <th>Chem</th>\n",
       "      <th>Phy</th>\n",
       "      <th>Math</th>\n",
       "    </tr>\n",
       "  </thead>\n",
       "  <tbody>\n",
       "    <tr>\n",
       "      <th>0</th>\n",
       "      <td>DEC</td>\n",
       "      <td>3</td>\n",
       "      <td>52.67</td>\n",
       "      <td>44.0</td>\n",
       "      <td>54.0</td>\n",
       "    </tr>\n",
       "    <tr>\n",
       "      <th>1</th>\n",
       "      <td>FEB</td>\n",
       "      <td>1</td>\n",
       "      <td>24.00</td>\n",
       "      <td>22.0</td>\n",
       "      <td>43.0</td>\n",
       "    </tr>\n",
       "    <tr>\n",
       "      <th>2</th>\n",
       "      <td>JUN</td>\n",
       "      <td>1</td>\n",
       "      <td>61.00</td>\n",
       "      <td>17.0</td>\n",
       "      <td>42.0</td>\n",
       "    </tr>\n",
       "    <tr>\n",
       "      <th>3</th>\n",
       "      <td>SEP</td>\n",
       "      <td>1</td>\n",
       "      <td>32.00</td>\n",
       "      <td>1.0</td>\n",
       "      <td>68.0</td>\n",
       "    </tr>\n",
       "  </tbody>\n",
       "</table>\n",
       "</div>"
      ],
      "text/plain": [
       "  Month  Date   Chem   Phy  Math\n",
       "0   DEC     3  52.67  44.0  54.0\n",
       "1   FEB     1  24.00  22.0  43.0\n",
       "2   JUN     1  61.00  17.0  42.0\n",
       "3   SEP     1  32.00   1.0  68.0"
      ]
     },
     "execution_count": 9,
     "metadata": {},
     "output_type": "execute_result"
    }
   ],
   "source": [
    "d"
   ]
  },
  {
   "cell_type": "code",
   "execution_count": 11,
   "id": "396316ff",
   "metadata": {},
   "outputs": [
    {
     "data": {
      "text/html": [
       "<div>\n",
       "<style scoped>\n",
       "    .dataframe tbody tr th:only-of-type {\n",
       "        vertical-align: middle;\n",
       "    }\n",
       "\n",
       "    .dataframe tbody tr th {\n",
       "        vertical-align: top;\n",
       "    }\n",
       "\n",
       "    .dataframe thead th {\n",
       "        text-align: right;\n",
       "    }\n",
       "</style>\n",
       "<table border=\"1\" class=\"dataframe\">\n",
       "  <thead>\n",
       "    <tr style=\"text-align: right;\">\n",
       "      <th></th>\n",
       "      <th>Month</th>\n",
       "      <th>Date</th>\n",
       "      <th>Chem</th>\n",
       "      <th>Phy</th>\n",
       "      <th>Math</th>\n",
       "    </tr>\n",
       "  </thead>\n",
       "  <tbody>\n",
       "    <tr>\n",
       "      <th>0</th>\n",
       "      <td>DEC</td>\n",
       "      <td>3</td>\n",
       "      <td>52.67</td>\n",
       "      <td>44.0</td>\n",
       "      <td>54.0</td>\n",
       "    </tr>\n",
       "    <tr>\n",
       "      <th>1</th>\n",
       "      <td>FEB</td>\n",
       "      <td>1</td>\n",
       "      <td>24.00</td>\n",
       "      <td>22.0</td>\n",
       "      <td>43.0</td>\n",
       "    </tr>\n",
       "    <tr>\n",
       "      <th>2</th>\n",
       "      <td>JUN</td>\n",
       "      <td>1</td>\n",
       "      <td>61.00</td>\n",
       "      <td>17.0</td>\n",
       "      <td>42.0</td>\n",
       "    </tr>\n",
       "    <tr>\n",
       "      <th>3</th>\n",
       "      <td>SEP</td>\n",
       "      <td>1</td>\n",
       "      <td>32.00</td>\n",
       "      <td>1.0</td>\n",
       "      <td>68.0</td>\n",
       "    </tr>\n",
       "  </tbody>\n",
       "</table>\n",
       "</div>"
      ],
      "text/plain": [
       "  Month  Date   Chem   Phy  Math\n",
       "0   DEC     3  52.67  44.0  54.0\n",
       "1   FEB     1  24.00  22.0  43.0\n",
       "2   JUN     1  61.00  17.0  42.0\n",
       "3   SEP     1  32.00   1.0  68.0"
      ]
     },
     "execution_count": 11,
     "metadata": {},
     "output_type": "execute_result"
    }
   ],
   "source": [
    "d.sort_values(by=[\"Date\", \"Month\"], ascending=[False, True], inplace=True)\n",
    "d"
   ]
  },
  {
   "cell_type": "code",
   "execution_count": 12,
   "id": "2b32b594",
   "metadata": {},
   "outputs": [
    {
     "data": {
      "text/plain": [
       "0      DEC\n",
       "1        3\n",
       "2    52.67\n",
       "3     44.0\n",
       "4     54.0\n",
       "dtype: object"
      ]
     },
     "execution_count": 12,
     "metadata": {},
     "output_type": "execute_result"
    }
   ],
   "source": [
    "pd.Series(d.loc[d.index[0]].values)"
   ]
  },
  {
   "cell_type": "code",
   "execution_count": null,
   "id": "7985ee8f",
   "metadata": {},
   "outputs": [],
   "source": []
  }
 ],
 "metadata": {
  "kernelspec": {
   "display_name": "Python 3 (ipykernel)",
   "language": "python",
   "name": "python3"
  },
  "language_info": {
   "codemirror_mode": {
    "name": "ipython",
    "version": 3
   },
   "file_extension": ".py",
   "mimetype": "text/x-python",
   "name": "python",
   "nbconvert_exporter": "python",
   "pygments_lexer": "ipython3",
   "version": "3.10.5"
  }
 },
 "nbformat": 4,
 "nbformat_minor": 5
}
