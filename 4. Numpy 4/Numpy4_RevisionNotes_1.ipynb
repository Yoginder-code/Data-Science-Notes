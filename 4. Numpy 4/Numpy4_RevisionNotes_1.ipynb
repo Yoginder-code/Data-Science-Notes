{
 "cells": [
  {
   "cell_type": "markdown",
   "metadata": {
    "id": "88OGPe_eVX4v"
   },
   "source": [
    "## Content\n",
    "\n",
    "- **Reshape with -ve index**\n",
    "\n",
    "- **Matrix Multiplication**\n",
    "    - `matmul()`, `@`, `dot()`\n",
    "\n",
    "- **Vectorization**\n",
    "    - `np.vectorize()`\n",
    "\n"
   ]
  },
  {
   "cell_type": "code",
   "execution_count": null,
   "metadata": {
    "id": "vRBR7h1VXfJG"
   },
   "outputs": [],
   "source": [
    "import numpy as np"
   ]
  },
  {
   "cell_type": "markdown",
   "metadata": {
    "id": "0oXgEUU75DEe"
   },
   "source": [
    "## Reshape in 2D array"
   ]
  },
  {
   "cell_type": "markdown",
   "metadata": {
    "id": "A9OulPTH1t1x"
   },
   "source": [
    "#### We saw reshape and flatten. What if i want to convert a matrix to 1D array using `reshape()`\n",
    "#### Question: What should I pass in `A.reshape()` if I want to use it to convert `A` to 1D vector?\n",
    "\n",
    "- **(1, 1)?** - **NO** \n",
    "\n",
    "\n",
    "- It means we only have a single element\n",
    "\n",
    "\n",
    "- But **we don't have a single element**"
   ]
  },
  {
   "cell_type": "code",
   "execution_count": null,
   "metadata": {
    "id": "FijYx9NZjZaG"
   },
   "outputs": [],
   "source": [
    "A = np.arange(12).reshape(3,4)"
   ]
  },
  {
   "cell_type": "code",
   "execution_count": null,
   "metadata": {
    "colab": {
     "base_uri": "https://localhost:8080/",
     "height": 165
    },
    "id": "RzDUkALz1t1y",
    "outputId": "026e3bfb-e274-4ace-f32c-b647f9e677de"
   },
   "outputs": [
    {
     "ename": "ValueError",
     "evalue": "ignored",
     "output_type": "error",
     "traceback": [
      "\u001b[0;31m---------------------------------------------------------------------------\u001b[0m",
      "\u001b[0;31mValueError\u001b[0m                                Traceback (most recent call last)",
      "\u001b[0;32m<ipython-input-138-902e5c35e0d3>\u001b[0m in \u001b[0;36m<module>\u001b[0;34m()\u001b[0m\n\u001b[0;32m----> 1\u001b[0;31m \u001b[0mA\u001b[0m\u001b[0;34m.\u001b[0m\u001b[0mreshape\u001b[0m\u001b[0;34m(\u001b[0m\u001b[0;36m1\u001b[0m\u001b[0;34m,\u001b[0m \u001b[0;36m1\u001b[0m\u001b[0;34m)\u001b[0m\u001b[0;34m\u001b[0m\u001b[0;34m\u001b[0m\u001b[0m\n\u001b[0m",
      "\u001b[0;31mValueError\u001b[0m: cannot reshape array of size 12 into shape (1,1)"
     ]
    }
   ],
   "source": [
    "A.reshape(1, 1)"
   ]
  },
  {
   "cell_type": "markdown",
   "metadata": {
    "id": "rX2QWIp_1t1z"
   },
   "source": [
    "- So, **(1, 12)?** - **NO** \n",
    "\n",
    "\n",
    "- It will **still remain a 2D Matrix with dimensions $1\\times12$**"
   ]
  },
  {
   "cell_type": "code",
   "execution_count": null,
   "metadata": {
    "colab": {
     "base_uri": "https://localhost:8080/"
    },
    "id": "pPqWV_GO1t10",
    "outputId": "1210305f-3f44-4749-c3ed-4e7379c15811"
   },
   "outputs": [
    {
     "data": {
      "text/plain": [
       "array([[ 0,  1,  2,  3,  4,  5,  6,  7,  8,  9, 10, 11]])"
      ]
     },
     "execution_count": 139,
     "metadata": {},
     "output_type": "execute_result"
    }
   ],
   "source": [
    "A.reshape(1, 12)"
   ]
  },
  {
   "cell_type": "markdown",
   "metadata": {
    "id": "O4A_m2Rn1t11"
   },
   "source": [
    "- **Correct answer is (12)**\n",
    "\n",
    "\n",
    "- We need a vector of dimension (12,)\n",
    "\n",
    "\n",
    "- So we need to pass only 1 dimension in `reshape()`"
   ]
  },
  {
   "cell_type": "code",
   "execution_count": null,
   "metadata": {
    "colab": {
     "base_uri": "https://localhost:8080/"
    },
    "id": "F-5twnGo1t12",
    "outputId": "ba9e9ece-7273-4e31-bf82-af3fffc5f999"
   },
   "outputs": [
    {
     "data": {
      "text/plain": [
       "array([ 0,  1,  2,  3,  4,  5,  6,  7,  8,  9, 10, 11])"
      ]
     },
     "execution_count": 140,
     "metadata": {},
     "output_type": "execute_result"
    }
   ],
   "source": [
    "A.reshape(12)"
   ]
  },
  {
   "cell_type": "markdown",
   "metadata": {
    "id": "P0NnpWgO1t13"
   },
   "source": [
    "#### So, Be careful while using `reshape()` to convert a Matrix into a 1D vector"
   ]
  },
  {
   "cell_type": "markdown",
   "metadata": {
    "id": "dlIoWTy01t13"
   },
   "source": [
    "#### What will happen if we pass a negative integer in `reshape()`?"
   ]
  },
  {
   "cell_type": "code",
   "execution_count": null,
   "metadata": {
    "colab": {
     "base_uri": "https://localhost:8080/"
    },
    "id": "Y0t3bcsB1t13",
    "outputId": "e3ad00e9-2b5e-4389-eef5-38b85c87a313",
    "scrolled": true
   },
   "outputs": [
    {
     "data": {
      "text/plain": [
       "array([[ 0,  1],\n",
       "       [ 2,  3],\n",
       "       [ 4,  5],\n",
       "       [ 6,  7],\n",
       "       [ 8,  9],\n",
       "       [10, 11]])"
      ]
     },
     "execution_count": 141,
     "metadata": {},
     "output_type": "execute_result"
    }
   ],
   "source": [
    "A.reshape(6, -1)"
   ]
  },
  {
   "cell_type": "markdown",
   "metadata": {
    "id": "9A538_eX1t14"
   },
   "source": [
    "#### Surprisingly, it did not give an error\n",
    "\n",
    "- It is able to **figure out on its own** what should be the **value in-place of negative integer**\n",
    "\n",
    "\n",
    "- Since **no. of elements in our matrix is 12**\n",
    "\n",
    "\n",
    "- And **we passed 6 as no. of rows**\n",
    "\n",
    "\n",
    "- It is **able to figure out** that **no. of columns should be 2**\n",
    "\n",
    "\n",
    "**Same thing happens with this:**"
   ]
  },
  {
   "cell_type": "code",
   "execution_count": null,
   "metadata": {
    "colab": {
     "base_uri": "https://localhost:8080/"
    },
    "id": "R2diZQ1K1t14",
    "outputId": "510c5505-a41b-4948-e655-d0ddac6bcad4"
   },
   "outputs": [
    {
     "data": {
      "text/plain": [
       "array([[ 0,  1,  2,  3,  4,  5],\n",
       "       [ 6,  7,  8,  9, 10, 11]])"
      ]
     },
     "execution_count": 142,
     "metadata": {},
     "output_type": "execute_result"
    }
   ],
   "source": [
    "A.reshape(-1, 6)"
   ]
  },
  {
   "cell_type": "markdown",
   "metadata": {
    "id": "CdnIOCQcXLZU"
   },
   "source": [
    "## Matrix multiplication"
   ]
  },
  {
   "cell_type": "markdown",
   "metadata": {
    "id": "UCgk6NgpXW2i"
   },
   "source": [
    "#### Question: What will be output of following? "
   ]
  },
  {
   "cell_type": "code",
   "execution_count": null,
   "metadata": {
    "id": "YebHuQUHXeAv"
   },
   "outputs": [],
   "source": [
    "a = np.arange(5)\n",
    "b = np.ones(5) * 2"
   ]
  },
  {
   "cell_type": "code",
   "execution_count": null,
   "metadata": {
    "colab": {
     "base_uri": "https://localhost:8080/"
    },
    "id": "kF7XX_1XXlBJ",
    "outputId": "c75772c0-7497-441e-a916-7bcce69213a8"
   },
   "outputs": [
    {
     "data": {
      "text/plain": [
       "array([0., 2., 4., 6., 8.])"
      ]
     },
     "execution_count": 6,
     "metadata": {},
     "output_type": "execute_result"
    }
   ],
   "source": [
    "a * b "
   ]
  },
  {
   "cell_type": "markdown",
   "metadata": {
    "id": "TdimObCPXWRJ"
   },
   "source": [
    "Recall that, if a and b are 1D, * operation will perform elementwise multiplication\n",
    "\n",
    "\n",
    "#### Lets try * with 2D arrays"
   ]
  },
  {
   "cell_type": "code",
   "execution_count": null,
   "metadata": {
    "id": "aV3rJPbpUrQa",
    "outputId": "9ca3ec5a-4c4d-4fa7-fda2-485f21ce3d47"
   },
   "outputs": [
    {
     "data": {
      "text/plain": [
       "array([[ 0,  1,  2,  3],\n",
       "       [ 4,  5,  6,  7],\n",
       "       [ 8,  9, 10, 11]])"
      ]
     },
     "execution_count": 7,
     "metadata": {},
     "output_type": "execute_result"
    }
   ],
   "source": [
    "A = np.arange(12).reshape(3, 4)\n",
    "A"
   ]
  },
  {
   "cell_type": "code",
   "execution_count": null,
   "metadata": {
    "id": "xec5N0W1UrQb",
    "outputId": "3b0676eb-9fd2-4fea-8f4e-cf35a7eaec93"
   },
   "outputs": [
    {
     "data": {
      "text/plain": [
       "array([[ 0,  1,  2,  3],\n",
       "       [ 4,  5,  6,  7],\n",
       "       [ 8,  9, 10, 11]])"
      ]
     },
     "execution_count": 8,
     "metadata": {},
     "output_type": "execute_result"
    }
   ],
   "source": [
    "B = np.arange(12).reshape(3, 4)\n",
    "B"
   ]
  },
  {
   "cell_type": "code",
   "execution_count": null,
   "metadata": {
    "id": "JI5-SporUrQb",
    "outputId": "38f39865-c92e-47e3-b07c-83cb1265efa1"
   },
   "outputs": [
    {
     "data": {
      "text/plain": [
       "array([[  0,   1,   4,   9],\n",
       "       [ 16,  25,  36,  49],\n",
       "       [ 64,  81, 100, 121]])"
      ]
     },
     "execution_count": 9,
     "metadata": {},
     "output_type": "execute_result"
    }
   ],
   "source": [
    "A * B"
   ]
  },
  {
   "cell_type": "markdown",
   "metadata": {
    "id": "4SnQnKV3UrQb"
   },
   "source": [
    "**Again did element-wise multiplication**\n",
    "\n",
    "#### For actual Matrix Multiplication, We have a different method/operator\n",
    "\n",
    "`np.matmul()`\n",
    "\n"
   ]
  },
  {
   "cell_type": "markdown",
   "metadata": {
    "id": "5BDC8d_-w3Jp"
   },
   "source": [
    "\n",
    "#### What is the requirement of dimensions of 2 matrices for Matrix Multiplication?\n",
    "\n",
    "- **Columns of A = Rows of B** (A **Must condition** for Matric Multiplication)\n",
    "\n",
    "\n",
    "- **If A is $3\\times4$, B can be $4\\times3$**... or $4\\times(Something Else)$\n",
    "\n",
    "#### So, lets reshape B to $4\\times3$ instead"
   ]
  },
  {
   "cell_type": "code",
   "execution_count": null,
   "metadata": {
    "id": "CgYJY5b9UrQc",
    "outputId": "7516eb20-1c50-429f-ddca-f504a5c76a3d"
   },
   "outputs": [
    {
     "data": {
      "text/plain": [
       "array([[ 0,  1,  2],\n",
       "       [ 3,  4,  5],\n",
       "       [ 6,  7,  8],\n",
       "       [ 9, 10, 11]])"
      ]
     },
     "execution_count": 10,
     "metadata": {},
     "output_type": "execute_result"
    }
   ],
   "source": [
    "B = B.reshape(4, 3)\n",
    "B"
   ]
  },
  {
   "cell_type": "code",
   "execution_count": null,
   "metadata": {
    "id": "-gr53F0PUrQd",
    "outputId": "ef0d1b8b-b89a-4595-bde8-d7f5f5b09005"
   },
   "outputs": [
    {
     "data": {
      "text/plain": [
       "array([[ 42,  48,  54],\n",
       "       [114, 136, 158],\n",
       "       [186, 224, 262]])"
      ]
     },
     "execution_count": 12,
     "metadata": {},
     "output_type": "execute_result"
    }
   ],
   "source": [
    "np.matmul(A, B)"
   ]
  },
  {
   "cell_type": "markdown",
   "metadata": {
    "id": "91JXXYGSUrQd"
   },
   "source": [
    "- **We are getting a $3\\times3$ matrix as output**\n",
    "\n",
    "- So, this is doing Matrix Multiplication\n",
    "\n",
    "#### There's a direct operator as well for Matrix Multiplication\n",
    "`@`"
   ]
  },
  {
   "cell_type": "code",
   "execution_count": null,
   "metadata": {
    "id": "Yd6LfXFmUrQd",
    "outputId": "b5b3652a-e13b-4876-b8a8-779d22259321"
   },
   "outputs": [
    {
     "data": {
      "text/plain": [
       "array([[ 42,  48,  54],\n",
       "       [114, 136, 158],\n",
       "       [186, 224, 262]])"
      ]
     },
     "execution_count": 13,
     "metadata": {},
     "output_type": "execute_result"
    }
   ],
   "source": [
    "A @ B"
   ]
  },
  {
   "cell_type": "markdown",
   "metadata": {
    "id": "q7ZKcNV8UrQe"
   },
   "source": [
    "#### Question: What will be the dimensions of Matrix Multiplication `B @ A`?\n",
    "\n",
    "- $4\\times4$"
   ]
  },
  {
   "cell_type": "code",
   "execution_count": null,
   "metadata": {
    "id": "PWEH23fGUrQe",
    "outputId": "77a442fc-ec73-4a1e-d972-f98abf31c970"
   },
   "outputs": [
    {
     "data": {
      "text/plain": [
       "array([[ 20,  23,  26,  29],\n",
       "       [ 56,  68,  80,  92],\n",
       "       [ 92, 113, 134, 155],\n",
       "       [128, 158, 188, 218]])"
      ]
     },
     "execution_count": 14,
     "metadata": {},
     "output_type": "execute_result"
    }
   ],
   "source": [
    "B @ A"
   ]
  },
  {
   "cell_type": "markdown",
   "metadata": {
    "id": "Dr1J9jo5UrQe"
   },
   "source": [
    "#### There is another method in np for doing Matrix Multiplication\n"
   ]
  },
  {
   "cell_type": "code",
   "execution_count": null,
   "metadata": {
    "id": "UDM9hAR2UrQe",
    "outputId": "16841343-166f-4057-ff43-63862a53ac42"
   },
   "outputs": [
    {
     "data": {
      "text/plain": [
       "array([[ 42,  48,  54],\n",
       "       [114, 136, 158],\n",
       "       [186, 224, 262]])"
      ]
     },
     "execution_count": 15,
     "metadata": {},
     "output_type": "execute_result"
    }
   ],
   "source": [
    "np.dot(A, B)"
   ]
  },
  {
   "cell_type": "markdown",
   "metadata": {
    "id": "9TsySgOUUrQe"
   },
   "source": [
    "**Other cases of `np.dot()`**\n",
    "- It performs dot product when both inputs are 1D array\n",
    "- It performs multiplication when both input are scalers.\n"
   ]
  },
  {
   "cell_type": "code",
   "execution_count": null,
   "metadata": {
    "id": "H-urOvgCUrQe"
   },
   "outputs": [],
   "source": [
    "a= np.array([1,2,3])\n",
    "b = np.array([1,1,1])\n"
   ]
  },
  {
   "cell_type": "code",
   "execution_count": null,
   "metadata": {
    "id": "oCO1QzwjUrQf",
    "outputId": "e348205c-d924-4faf-a216-902a6f54e7d6"
   },
   "outputs": [
    {
     "data": {
      "text/plain": [
       "6"
      ]
     },
     "execution_count": 17,
     "metadata": {},
     "output_type": "execute_result"
    }
   ],
   "source": [
    "np.dot(a,b) # 1*1 + 2*1 + 3*1 = 6"
   ]
  },
  {
   "cell_type": "code",
   "execution_count": null,
   "metadata": {
    "id": "OW5Kj5zsUrQf",
    "outputId": "69845593-5502-498c-dbff-2446d48ba221"
   },
   "outputs": [
    {
     "data": {
      "text/plain": [
       "20"
      ]
     },
     "execution_count": 18,
     "metadata": {},
     "output_type": "execute_result"
    }
   ],
   "source": [
    "np.dot(4,5)"
   ]
  },
  {
   "cell_type": "markdown",
   "metadata": {
    "id": "_YIkvBhzUrQf"
   },
   "source": [
    "#### Now, Let's try multiplication of a mix of matrices and vectors\n",
    "\n"
   ]
  },
  {
   "cell_type": "code",
   "execution_count": null,
   "metadata": {
    "id": "O2XUGlZQUrQf",
    "outputId": "f2450134-a295-4a9d-fc21-fe43c0bb248b"
   },
   "outputs": [
    {
     "data": {
      "text/plain": [
       "array([[ 0,  1,  2,  3],\n",
       "       [ 4,  5,  6,  7],\n",
       "       [ 8,  9, 10, 11]])"
      ]
     },
     "execution_count": 19,
     "metadata": {},
     "output_type": "execute_result"
    }
   ],
   "source": [
    "A = np.arange(12).reshape(3, 4)  # A is a 3x4 Matrix \n",
    "A"
   ]
  },
  {
   "cell_type": "code",
   "execution_count": null,
   "metadata": {
    "id": "t8S_XfmwUrQf",
    "outputId": "0c969ffe-636d-4d5a-d674-1360abe27f7a"
   },
   "outputs": [
    {
     "name": "stdout",
     "output_type": "stream",
     "text": [
      "[1 2 3]\n",
      "(3,)\n"
     ]
    }
   ],
   "source": [
    "a = np.array([1, 2, 3])  # a although a (3,) can be thought of as row vector\n",
    "print(a.shape)"
   ]
  },
  {
   "cell_type": "code",
   "execution_count": null,
   "metadata": {
    "id": "Qio0fP63UrQh",
    "outputId": "e0b54f82-172e-4008-8f78-675f7a2251ee"
   },
   "outputs": [
    {
     "ename": "ValueError",
     "evalue": "matmul: Input operand 1 has a mismatch in its core dimension 0, with gufunc signature (n?,k),(k,m?)->(n?,m?) (size 3 is different from 4)",
     "output_type": "error",
     "traceback": [
      "\u001b[1;31m---------------------------------------------------------------------------\u001b[0m",
      "\u001b[1;31mValueError\u001b[0m                                Traceback (most recent call last)",
      "\u001b[1;32m<ipython-input-25-76efef6bd8e9>\u001b[0m in \u001b[0;36m<module>\u001b[1;34m()\u001b[0m\n\u001b[1;32m----> 1\u001b[1;33m \u001b[0mnp\u001b[0m\u001b[1;33m.\u001b[0m\u001b[0mmatmul\u001b[0m\u001b[1;33m(\u001b[0m\u001b[0mA\u001b[0m\u001b[1;33m,\u001b[0m \u001b[0ma\u001b[0m\u001b[1;33m)\u001b[0m\u001b[1;33m\u001b[0m\u001b[0m\n\u001b[0m",
      "\u001b[1;31mValueError\u001b[0m: matmul: Input operand 1 has a mismatch in its core dimension 0, with gufunc signature (n?,k),(k,m?)->(n?,m?) (size 3 is different from 4)"
     ]
    }
   ],
   "source": [
    "np.matmul(A, a)"
   ]
  },
  {
   "cell_type": "markdown",
   "metadata": {
    "id": "H68txXygUrQh"
   },
   "source": [
    "**Columns of `A` $\\neq$ Rows of `a`**\n",
    "\n",
    "Lets try revervse"
   ]
  },
  {
   "cell_type": "code",
   "execution_count": null,
   "metadata": {
    "id": "t0j5P-cGUrQh",
    "outputId": "04123600-7fe3-4fde-e278-7901626c6c62"
   },
   "outputs": [
    {
     "data": {
      "text/plain": [
       "array([32, 38, 44, 50])"
      ]
     },
     "execution_count": 26,
     "metadata": {},
     "output_type": "execute_result"
    }
   ],
   "source": [
    "np.matmul(a, A)"
   ]
  },
  {
   "cell_type": "markdown",
   "metadata": {
    "id": "YAShrxj1UrQh"
   },
   "source": [
    "YES, **Columns of `a` (3) = Rows of `A` (3)**"
   ]
  }
 ],
 "metadata": {
  "colab": {
   "collapsed_sections": [
    "UCgk6NgpXW2i",
    "TdimObCPXWRJ",
    "4SnQnKV3UrQb",
    "5BDC8d_-w3Jp",
    "91JXXYGSUrQd",
    "q7ZKcNV8UrQe",
    "Dr1J9jo5UrQe",
    "_YIkvBhzUrQf"
   ],
   "provenance": []
  },
  "kernelspec": {
   "display_name": "Python 3 (ipykernel)",
   "language": "python",
   "name": "python3"
  },
  "language_info": {
   "codemirror_mode": {
    "name": "ipython",
    "version": 3
   },
   "file_extension": ".py",
   "mimetype": "text/x-python",
   "name": "python",
   "nbconvert_exporter": "python",
   "pygments_lexer": "ipython3",
   "version": "3.10.5"
  }
 },
 "nbformat": 4,
 "nbformat_minor": 1
}
